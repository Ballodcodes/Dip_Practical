{
 "cells": [
  {
   "cell_type": "code",
   "execution_count": 18,
   "metadata": {},
   "outputs": [
    {
     "name": "stdout",
     "output_type": "stream",
     "text": [
      "Requirement already satisfied: tensorflow in c:\\users\\om\\anaconda3\\lib\\site-packages (2.13.0)\n",
      "Requirement already satisfied: tensorflow-intel==2.13.0 in c:\\users\\om\\anaconda3\\lib\\site-packages (from tensorflow) (2.13.0)\n",
      "Requirement already satisfied: six>=1.12.0 in c:\\users\\om\\anaconda3\\lib\\site-packages (from tensorflow-intel==2.13.0->tensorflow) (1.15.0)\n",
      "Requirement already satisfied: flatbuffers>=23.1.21 in c:\\users\\om\\anaconda3\\lib\\site-packages (from tensorflow-intel==2.13.0->tensorflow) (23.5.9)\n",
      "Requirement already satisfied: libclang>=13.0.0 in c:\\users\\om\\anaconda3\\lib\\site-packages (from tensorflow-intel==2.13.0->tensorflow) (16.0.0)\n",
      "Requirement already satisfied: gast<=0.4.0,>=0.2.1 in c:\\users\\om\\anaconda3\\lib\\site-packages (from tensorflow-intel==2.13.0->tensorflow) (0.4.0)\n",
      "Requirement already satisfied: opt-einsum>=2.3.2 in c:\\users\\om\\anaconda3\\lib\\site-packages (from tensorflow-intel==2.13.0->tensorflow) (3.3.0)\n",
      "Requirement already satisfied: grpcio<2.0,>=1.24.3 in c:\\users\\om\\anaconda3\\lib\\site-packages (from tensorflow-intel==2.13.0->tensorflow) (1.54.2)\n",
      "Requirement already satisfied: tensorflow-estimator<2.14,>=2.13.0 in c:\\users\\om\\anaconda3\\lib\\site-packages (from tensorflow-intel==2.13.0->tensorflow) (2.13.0)\n",
      "Requirement already satisfied: termcolor>=1.1.0 in c:\\users\\om\\anaconda3\\lib\\site-packages (from tensorflow-intel==2.13.0->tensorflow) (2.3.0)\n",
      "Requirement already satisfied: absl-py>=1.0.0 in c:\\users\\om\\anaconda3\\lib\\site-packages (from tensorflow-intel==2.13.0->tensorflow) (1.4.0)\n",
      "Requirement already satisfied: keras<2.14,>=2.13.1 in c:\\users\\om\\anaconda3\\lib\\site-packages (from tensorflow-intel==2.13.0->tensorflow) (2.13.1)\n",
      "Requirement already satisfied: h5py>=2.9.0 in c:\\users\\om\\anaconda3\\lib\\site-packages (from tensorflow-intel==2.13.0->tensorflow) (2.10.0)\n",
      "Requirement already satisfied: setuptools in c:\\users\\om\\anaconda3\\lib\\site-packages (from tensorflow-intel==2.13.0->tensorflow) (52.0.0.post20210125)\n",
      "Requirement already satisfied: astunparse>=1.6.0 in c:\\users\\om\\anaconda3\\lib\\site-packages (from tensorflow-intel==2.13.0->tensorflow) (1.6.3)\n",
      "Requirement already satisfied: google-pasta>=0.1.1 in c:\\users\\om\\anaconda3\\lib\\site-packages (from tensorflow-intel==2.13.0->tensorflow) (0.2.0)\n",
      "Requirement already satisfied: numpy<=1.24.3,>=1.22 in c:\\users\\om\\anaconda3\\lib\\site-packages (from tensorflow-intel==2.13.0->tensorflow) (1.24.3)\n",
      "Requirement already satisfied: packaging in c:\\users\\om\\anaconda3\\lib\\site-packages (from tensorflow-intel==2.13.0->tensorflow) (20.9)\n",
      "Requirement already satisfied: protobuf!=4.21.0,!=4.21.1,!=4.21.2,!=4.21.3,!=4.21.4,!=4.21.5,<5.0.0dev,>=3.20.3 in c:\\users\\om\\anaconda3\\lib\\site-packages (from tensorflow-intel==2.13.0->tensorflow) (4.23.1)\n",
      "Requirement already satisfied: typing-extensions<4.6.0,>=3.6.6 in c:\\users\\om\\anaconda3\\lib\\site-packages (from tensorflow-intel==2.13.0->tensorflow) (4.5.0)\n",
      "Requirement already satisfied: wrapt>=1.11.0 in c:\\users\\om\\anaconda3\\lib\\site-packages (from tensorflow-intel==2.13.0->tensorflow) (1.12.1)\n",
      "Requirement already satisfied: tensorboard<2.14,>=2.13 in c:\\users\\om\\anaconda3\\lib\\site-packages (from tensorflow-intel==2.13.0->tensorflow) (2.13.0)\n",
      "Requirement already satisfied: tensorflow-io-gcs-filesystem>=0.23.1 in c:\\users\\om\\anaconda3\\lib\\site-packages (from tensorflow-intel==2.13.0->tensorflow) (0.31.0)\n",
      "Requirement already satisfied: wheel<1.0,>=0.23.0 in c:\\users\\om\\anaconda3\\lib\\site-packages (from astunparse>=1.6.0->tensorflow-intel==2.13.0->tensorflow) (0.36.2)\n",
      "Requirement already satisfied: markdown>=2.6.8 in c:\\users\\om\\anaconda3\\lib\\site-packages (from tensorboard<2.14,>=2.13->tensorflow-intel==2.13.0->tensorflow) (3.4.3)\n",
      "Requirement already satisfied: requests<3,>=2.21.0 in c:\\users\\om\\anaconda3\\lib\\site-packages (from tensorboard<2.14,>=2.13->tensorflow-intel==2.13.0->tensorflow) (2.25.1)\n",
      "Requirement already satisfied: google-auth-oauthlib<1.1,>=0.5 in c:\\users\\om\\anaconda3\\lib\\site-packages (from tensorboard<2.14,>=2.13->tensorflow-intel==2.13.0->tensorflow) (1.0.0)\n",
      "Requirement already satisfied: tensorboard-data-server<0.8.0,>=0.7.0 in c:\\users\\om\\anaconda3\\lib\\site-packages (from tensorboard<2.14,>=2.13->tensorflow-intel==2.13.0->tensorflow) (0.7.0)\n",
      "Requirement already satisfied: werkzeug>=1.0.1 in c:\\users\\om\\anaconda3\\lib\\site-packages (from tensorboard<2.14,>=2.13->tensorflow-intel==2.13.0->tensorflow) (1.0.1)\n",
      "Requirement already satisfied: google-auth<3,>=1.6.3 in c:\\users\\om\\anaconda3\\lib\\site-packages (from tensorboard<2.14,>=2.13->tensorflow-intel==2.13.0->tensorflow) (2.18.1)\n",
      "Requirement already satisfied: cachetools<6.0,>=2.0.0 in c:\\users\\om\\anaconda3\\lib\\site-packages (from google-auth<3,>=1.6.3->tensorboard<2.14,>=2.13->tensorflow-intel==2.13.0->tensorflow) (5.3.0)\n",
      "Requirement already satisfied: urllib3<2.0 in c:\\users\\om\\anaconda3\\lib\\site-packages (from google-auth<3,>=1.6.3->tensorboard<2.14,>=2.13->tensorflow-intel==2.13.0->tensorflow) (1.26.4)\n",
      "Requirement already satisfied: pyasn1-modules>=0.2.1 in c:\\users\\om\\anaconda3\\lib\\site-packages (from google-auth<3,>=1.6.3->tensorboard<2.14,>=2.13->tensorflow-intel==2.13.0->tensorflow) (0.3.0)\n",
      "Requirement already satisfied: rsa<5,>=3.1.4 in c:\\users\\om\\anaconda3\\lib\\site-packages (from google-auth<3,>=1.6.3->tensorboard<2.14,>=2.13->tensorflow-intel==2.13.0->tensorflow) (4.9)\n",
      "Requirement already satisfied: requests-oauthlib>=0.7.0 in c:\\users\\om\\anaconda3\\lib\\site-packages (from google-auth-oauthlib<1.1,>=0.5->tensorboard<2.14,>=2.13->tensorflow-intel==2.13.0->tensorflow) (1.3.1)\n",
      "Requirement already satisfied: importlib-metadata>=4.4 in c:\\users\\om\\anaconda3\\lib\\site-packages (from markdown>=2.6.8->tensorboard<2.14,>=2.13->tensorflow-intel==2.13.0->tensorflow) (6.6.0)\n",
      "Requirement already satisfied: zipp>=0.5 in c:\\users\\om\\anaconda3\\lib\\site-packages (from importlib-metadata>=4.4->markdown>=2.6.8->tensorboard<2.14,>=2.13->tensorflow-intel==2.13.0->tensorflow) (3.4.1)\n",
      "Requirement already satisfied: pyasn1<0.6.0,>=0.4.6 in c:\\users\\om\\anaconda3\\lib\\site-packages (from pyasn1-modules>=0.2.1->google-auth<3,>=1.6.3->tensorboard<2.14,>=2.13->tensorflow-intel==2.13.0->tensorflow) (0.5.0)\n",
      "Requirement already satisfied: certifi>=2017.4.17 in c:\\users\\om\\anaconda3\\lib\\site-packages (from requests<3,>=2.21.0->tensorboard<2.14,>=2.13->tensorflow-intel==2.13.0->tensorflow) (2020.12.5)\n",
      "Requirement already satisfied: idna<3,>=2.5 in c:\\users\\om\\anaconda3\\lib\\site-packages (from requests<3,>=2.21.0->tensorboard<2.14,>=2.13->tensorflow-intel==2.13.0->tensorflow) (2.10)\n",
      "Requirement already satisfied: chardet<5,>=3.0.2 in c:\\users\\om\\anaconda3\\lib\\site-packages (from requests<3,>=2.21.0->tensorboard<2.14,>=2.13->tensorflow-intel==2.13.0->tensorflow) (4.0.0)\n",
      "Requirement already satisfied: oauthlib>=3.0.0 in c:\\users\\om\\anaconda3\\lib\\site-packages (from requests-oauthlib>=0.7.0->google-auth-oauthlib<1.1,>=0.5->tensorboard<2.14,>=2.13->tensorflow-intel==2.13.0->tensorflow) (3.2.2)\n",
      "Requirement already satisfied: pyparsing>=2.0.2 in c:\\users\\om\\anaconda3\\lib\\site-packages (from packaging->tensorflow-intel==2.13.0->tensorflow) (2.4.7)\n"
     ]
    }
   ],
   "source": [
    "!pip install tensorflow\n"
   ]
  },
  {
   "cell_type": "code",
   "execution_count": 12,
   "metadata": {
    "scrolled": true
   },
   "outputs": [
    {
     "name": "stdout",
     "output_type": "stream",
     "text": [
      "Requirement already satisfied: tensorflow in c:\\users\\om\\anaconda3\\lib\\site-packages (2.13.0)\n",
      "Requirement already satisfied: tensorflow-intel==2.13.0 in c:\\users\\om\\anaconda3\\lib\\site-packages (from tensorflow) (2.13.0)\n",
      "Requirement already satisfied: absl-py>=1.0.0 in c:\\users\\om\\anaconda3\\lib\\site-packages (from tensorflow-intel==2.13.0->tensorflow) (1.4.0)\n",
      "Requirement already satisfied: h5py>=2.9.0 in c:\\users\\om\\anaconda3\\lib\\site-packages (from tensorflow-intel==2.13.0->tensorflow) (2.10.0)\n",
      "Requirement already satisfied: protobuf!=4.21.0,!=4.21.1,!=4.21.2,!=4.21.3,!=4.21.4,!=4.21.5,<5.0.0dev,>=3.20.3 in c:\\users\\om\\anaconda3\\lib\\site-packages (from tensorflow-intel==2.13.0->tensorflow) (4.23.1)\n",
      "Requirement already satisfied: wrapt>=1.11.0 in c:\\users\\om\\anaconda3\\lib\\site-packages (from tensorflow-intel==2.13.0->tensorflow) (1.12.1)\n",
      "Requirement already satisfied: gast<=0.4.0,>=0.2.1 in c:\\users\\om\\anaconda3\\lib\\site-packages (from tensorflow-intel==2.13.0->tensorflow) (0.4.0)\n",
      "Requirement already satisfied: grpcio<2.0,>=1.24.3 in c:\\users\\om\\anaconda3\\lib\\site-packages (from tensorflow-intel==2.13.0->tensorflow) (1.54.2)\n",
      "Requirement already satisfied: opt-einsum>=2.3.2 in c:\\users\\om\\anaconda3\\lib\\site-packages (from tensorflow-intel==2.13.0->tensorflow) (3.3.0)\n",
      "Requirement already satisfied: typing-extensions<4.6.0,>=3.6.6 in c:\\users\\om\\anaconda3\\lib\\site-packages (from tensorflow-intel==2.13.0->tensorflow) (4.5.0)\n",
      "Requirement already satisfied: numpy<=1.24.3,>=1.22 in c:\\users\\om\\anaconda3\\lib\\site-packages (from tensorflow-intel==2.13.0->tensorflow) (1.24.3)\n",
      "Requirement already satisfied: tensorflow-estimator<2.14,>=2.13.0 in c:\\users\\om\\anaconda3\\lib\\site-packages (from tensorflow-intel==2.13.0->tensorflow) (2.13.0)\n",
      "Requirement already satisfied: astunparse>=1.6.0 in c:\\users\\om\\anaconda3\\lib\\site-packages (from tensorflow-intel==2.13.0->tensorflow) (1.6.3)\n",
      "Requirement already satisfied: tensorboard<2.14,>=2.13 in c:\\users\\om\\anaconda3\\lib\\site-packages (from tensorflow-intel==2.13.0->tensorflow) (2.13.0)\n",
      "Requirement already satisfied: six>=1.12.0 in c:\\users\\om\\anaconda3\\lib\\site-packages (from tensorflow-intel==2.13.0->tensorflow) (1.15.0)\n",
      "Requirement already satisfied: tensorflow-io-gcs-filesystem>=0.23.1 in c:\\users\\om\\anaconda3\\lib\\site-packages (from tensorflow-intel==2.13.0->tensorflow) (0.31.0)\n",
      "Requirement already satisfied: termcolor>=1.1.0 in c:\\users\\om\\anaconda3\\lib\\site-packages (from tensorflow-intel==2.13.0->tensorflow) (2.3.0)\n",
      "Requirement already satisfied: flatbuffers>=23.1.21 in c:\\users\\om\\anaconda3\\lib\\site-packages (from tensorflow-intel==2.13.0->tensorflow) (23.5.9)\n",
      "Requirement already satisfied: keras<2.14,>=2.13.1 in c:\\users\\om\\anaconda3\\lib\\site-packages (from tensorflow-intel==2.13.0->tensorflow) (2.13.1)\n",
      "Requirement already satisfied: packaging in c:\\users\\om\\anaconda3\\lib\\site-packages (from tensorflow-intel==2.13.0->tensorflow) (20.9)\n",
      "Requirement already satisfied: google-pasta>=0.1.1 in c:\\users\\om\\anaconda3\\lib\\site-packages (from tensorflow-intel==2.13.0->tensorflow) (0.2.0)\n",
      "Requirement already satisfied: libclang>=13.0.0 in c:\\users\\om\\anaconda3\\lib\\site-packages (from tensorflow-intel==2.13.0->tensorflow) (16.0.0)\n",
      "Requirement already satisfied: setuptools in c:\\users\\om\\anaconda3\\lib\\site-packages (from tensorflow-intel==2.13.0->tensorflow) (52.0.0.post20210125)\n",
      "Requirement already satisfied: wheel<1.0,>=0.23.0 in c:\\users\\om\\anaconda3\\lib\\site-packages (from astunparse>=1.6.0->tensorflow-intel==2.13.0->tensorflow) (0.36.2)\n",
      "Requirement already satisfied: tensorboard-data-server<0.8.0,>=0.7.0 in c:\\users\\om\\anaconda3\\lib\\site-packages (from tensorboard<2.14,>=2.13->tensorflow-intel==2.13.0->tensorflow) (0.7.0)\n",
      "Requirement already satisfied: google-auth<3,>=1.6.3 in c:\\users\\om\\anaconda3\\lib\\site-packages (from tensorboard<2.14,>=2.13->tensorflow-intel==2.13.0->tensorflow) (2.18.1)\n",
      "Requirement already satisfied: werkzeug>=1.0.1 in c:\\users\\om\\anaconda3\\lib\\site-packages (from tensorboard<2.14,>=2.13->tensorflow-intel==2.13.0->tensorflow) (1.0.1)\n",
      "Requirement already satisfied: requests<3,>=2.21.0 in c:\\users\\om\\anaconda3\\lib\\site-packages (from tensorboard<2.14,>=2.13->tensorflow-intel==2.13.0->tensorflow) (2.25.1)\n",
      "Requirement already satisfied: google-auth-oauthlib<1.1,>=0.5 in c:\\users\\om\\anaconda3\\lib\\site-packages (from tensorboard<2.14,>=2.13->tensorflow-intel==2.13.0->tensorflow) (1.0.0)\n",
      "Requirement already satisfied: markdown>=2.6.8 in c:\\users\\om\\anaconda3\\lib\\site-packages (from tensorboard<2.14,>=2.13->tensorflow-intel==2.13.0->tensorflow) (3.4.3)\n",
      "Requirement already satisfied: urllib3<2.0 in c:\\users\\om\\anaconda3\\lib\\site-packages (from google-auth<3,>=1.6.3->tensorboard<2.14,>=2.13->tensorflow-intel==2.13.0->tensorflow) (1.26.4)\n",
      "Requirement already satisfied: pyasn1-modules>=0.2.1 in c:\\users\\om\\anaconda3\\lib\\site-packages (from google-auth<3,>=1.6.3->tensorboard<2.14,>=2.13->tensorflow-intel==2.13.0->tensorflow) (0.3.0)\n",
      "Requirement already satisfied: rsa<5,>=3.1.4 in c:\\users\\om\\anaconda3\\lib\\site-packages (from google-auth<3,>=1.6.3->tensorboard<2.14,>=2.13->tensorflow-intel==2.13.0->tensorflow) (4.9)\n",
      "Requirement already satisfied: cachetools<6.0,>=2.0.0 in c:\\users\\om\\anaconda3\\lib\\site-packages (from google-auth<3,>=1.6.3->tensorboard<2.14,>=2.13->tensorflow-intel==2.13.0->tensorflow) (5.3.0)\n",
      "Requirement already satisfied: requests-oauthlib>=0.7.0 in c:\\users\\om\\anaconda3\\lib\\site-packages (from google-auth-oauthlib<1.1,>=0.5->tensorboard<2.14,>=2.13->tensorflow-intel==2.13.0->tensorflow) (1.3.1)\n",
      "Requirement already satisfied: importlib-metadata>=4.4 in c:\\users\\om\\anaconda3\\lib\\site-packages (from markdown>=2.6.8->tensorboard<2.14,>=2.13->tensorflow-intel==2.13.0->tensorflow) (6.6.0)\n",
      "Requirement already satisfied: zipp>=0.5 in c:\\users\\om\\anaconda3\\lib\\site-packages (from importlib-metadata>=4.4->markdown>=2.6.8->tensorboard<2.14,>=2.13->tensorflow-intel==2.13.0->tensorflow) (3.4.1)\n",
      "Requirement already satisfied: pyasn1<0.6.0,>=0.4.6 in c:\\users\\om\\anaconda3\\lib\\site-packages (from pyasn1-modules>=0.2.1->google-auth<3,>=1.6.3->tensorboard<2.14,>=2.13->tensorflow-intel==2.13.0->tensorflow) (0.5.0)\n",
      "Requirement already satisfied: idna<3,>=2.5 in c:\\users\\om\\anaconda3\\lib\\site-packages (from requests<3,>=2.21.0->tensorboard<2.14,>=2.13->tensorflow-intel==2.13.0->tensorflow) (2.10)\n",
      "Requirement already satisfied: chardet<5,>=3.0.2 in c:\\users\\om\\anaconda3\\lib\\site-packages (from requests<3,>=2.21.0->tensorboard<2.14,>=2.13->tensorflow-intel==2.13.0->tensorflow) (4.0.0)\n",
      "Requirement already satisfied: certifi>=2017.4.17 in c:\\users\\om\\anaconda3\\lib\\site-packages (from requests<3,>=2.21.0->tensorboard<2.14,>=2.13->tensorflow-intel==2.13.0->tensorflow) (2020.12.5)\n",
      "Requirement already satisfied: oauthlib>=3.0.0 in c:\\users\\om\\anaconda3\\lib\\site-packages (from requests-oauthlib>=0.7.0->google-auth-oauthlib<1.1,>=0.5->tensorboard<2.14,>=2.13->tensorflow-intel==2.13.0->tensorflow) (3.2.2)\n",
      "Requirement already satisfied: pyparsing>=2.0.2 in c:\\users\\om\\anaconda3\\lib\\site-packages (from packaging->tensorflow-intel==2.13.0->tensorflow) (2.4.7)\n"
     ]
    }
   ],
   "source": [
    "# For GPU users\n",
    "# pip install tensorflow[and-cuda]\n",
    "# For CPU users\n",
    "!pip install tensorflow"
   ]
  },
  {
   "cell_type": "code",
   "execution_count": 14,
   "metadata": {},
   "outputs": [
    {
     "name": "stdout",
     "output_type": "stream",
     "text": [
      "Requirement already satisfied: tensorflow[and-cuda] in c:\\users\\om\\anaconda3\\lib\\site-packages (2.13.0)\n",
      "Requirement already satisfied: tensorflow-intel==2.13.0 in c:\\users\\om\\anaconda3\\lib\\site-packages (from tensorflow[and-cuda]) (2.13.0)\n",
      "Requirement already satisfied: google-pasta>=0.1.1 in c:\\users\\om\\anaconda3\\lib\\site-packages (from tensorflow-intel==2.13.0->tensorflow[and-cuda]) (0.2.0)\n",
      "Requirement already satisfied: six>=1.12.0 in c:\\users\\om\\anaconda3\\lib\\site-packages (from tensorflow-intel==2.13.0->tensorflow[and-cuda]) (1.15.0)\n",
      "Requirement already satisfied: setuptools in c:\\users\\om\\anaconda3\\lib\\site-packages (from tensorflow-intel==2.13.0->tensorflow[and-cuda]) (52.0.0.post20210125)\n",
      "Requirement already satisfied: astunparse>=1.6.0 in c:\\users\\om\\anaconda3\\lib\\site-packages (from tensorflow-intel==2.13.0->tensorflow[and-cuda]) (1.6.3)\n",
      "Requirement already satisfied: tensorflow-estimator<2.14,>=2.13.0 in c:\\users\\om\\anaconda3\\lib\\site-packages (from tensorflow-intel==2.13.0->tensorflow[and-cuda]) (2.13.0)\n",
      "Requirement already satisfied: tensorboard<2.14,>=2.13 in c:\\users\\om\\anaconda3\\lib\\site-packages (from tensorflow-intel==2.13.0->tensorflow[and-cuda]) (2.13.0)\n",
      "Requirement already satisfied: tensorflow-io-gcs-filesystem>=0.23.1 in c:\\users\\om\\anaconda3\\lib\\site-packages (from tensorflow-intel==2.13.0->tensorflow[and-cuda]) (0.31.0)\n",
      "Requirement already satisfied: opt-einsum>=2.3.2 in c:\\users\\om\\anaconda3\\lib\\site-packages (from tensorflow-intel==2.13.0->tensorflow[and-cuda]) (3.3.0)\n",
      "Requirement already satisfied: grpcio<2.0,>=1.24.3 in c:\\users\\om\\anaconda3\\lib\\site-packages (from tensorflow-intel==2.13.0->tensorflow[and-cuda]) (1.54.2)\n",
      "Requirement already satisfied: packaging in c:\\users\\om\\anaconda3\\lib\\site-packages (from tensorflow-intel==2.13.0->tensorflow[and-cuda]) (20.9)\n",
      "Requirement already satisfied: protobuf!=4.21.0,!=4.21.1,!=4.21.2,!=4.21.3,!=4.21.4,!=4.21.5,<5.0.0dev,>=3.20.3 in c:\\users\\om\\anaconda3\\lib\\site-packages (from tensorflow-intel==2.13.0->tensorflow[and-cuda]) (4.23.1)\n",
      "Requirement already satisfied: typing-extensions<4.6.0,>=3.6.6 in c:\\users\\om\\anaconda3\\lib\\site-packages (from tensorflow-intel==2.13.0->tensorflow[and-cuda]) (4.5.0)\n",
      "Requirement already satisfied: keras<2.14,>=2.13.1 in c:\\users\\om\\anaconda3\\lib\\site-packages (from tensorflow-intel==2.13.0->tensorflow[and-cuda]) (2.13.1)\n",
      "Requirement already satisfied: absl-py>=1.0.0 in c:\\users\\om\\anaconda3\\lib\\site-packages (from tensorflow-intel==2.13.0->tensorflow[and-cuda]) (1.4.0)\n",
      "Requirement already satisfied: libclang>=13.0.0 in c:\\users\\om\\anaconda3\\lib\\site-packages (from tensorflow-intel==2.13.0->tensorflow[and-cuda]) (16.0.0)\n",
      "Requirement already satisfied: termcolor>=1.1.0 in c:\\users\\om\\anaconda3\\lib\\site-packages (from tensorflow-intel==2.13.0->tensorflow[and-cuda]) (2.3.0)\n",
      "Requirement already satisfied: numpy<=1.24.3,>=1.22 in c:\\users\\om\\anaconda3\\lib\\site-packages (from tensorflow-intel==2.13.0->tensorflow[and-cuda]) (1.24.3)\n",
      "Requirement already satisfied: h5py>=2.9.0 in c:\\users\\om\\anaconda3\\lib\\site-packages (from tensorflow-intel==2.13.0->tensorflow[and-cuda]) (2.10.0)\n",
      "Requirement already satisfied: wrapt>=1.11.0 in c:\\users\\om\\anaconda3\\lib\\site-packages (from tensorflow-intel==2.13.0->tensorflow[and-cuda]) (1.12.1)\n",
      "Requirement already satisfied: flatbuffers>=23.1.21 in c:\\users\\om\\anaconda3\\lib\\site-packages (from tensorflow-intel==2.13.0->tensorflow[and-cuda]) (23.5.9)\n",
      "Requirement already satisfied: gast<=0.4.0,>=0.2.1 in c:\\users\\om\\anaconda3\\lib\\site-packages (from tensorflow-intel==2.13.0->tensorflow[and-cuda]) (0.4.0)\n",
      "Requirement already satisfied: wheel<1.0,>=0.23.0 in c:\\users\\om\\anaconda3\\lib\\site-packages (from astunparse>=1.6.0->tensorflow-intel==2.13.0->tensorflow[and-cuda]) (0.36.2)\n",
      "Requirement already satisfied: tensorboard-data-server<0.8.0,>=0.7.0 in c:\\users\\om\\anaconda3\\lib\\site-packages (from tensorboard<2.14,>=2.13->tensorflow-intel==2.13.0->tensorflow[and-cuda]) (0.7.0)\n",
      "Requirement already satisfied: google-auth<3,>=1.6.3 in c:\\users\\om\\anaconda3\\lib\\site-packages (from tensorboard<2.14,>=2.13->tensorflow-intel==2.13.0->tensorflow[and-cuda]) (2.18.1)\n",
      "Requirement already satisfied: markdown>=2.6.8 in c:\\users\\om\\anaconda3\\lib\\site-packages (from tensorboard<2.14,>=2.13->tensorflow-intel==2.13.0->tensorflow[and-cuda]) (3.4.3)\n",
      "Requirement already satisfied: werkzeug>=1.0.1 in c:\\users\\om\\anaconda3\\lib\\site-packages (from tensorboard<2.14,>=2.13->tensorflow-intel==2.13.0->tensorflow[and-cuda]) (1.0.1)\n",
      "Requirement already satisfied: requests<3,>=2.21.0 in c:\\users\\om\\anaconda3\\lib\\site-packages (from tensorboard<2.14,>=2.13->tensorflow-intel==2.13.0->tensorflow[and-cuda]) (2.25.1)\n",
      "Requirement already satisfied: google-auth-oauthlib<1.1,>=0.5 in c:\\users\\om\\anaconda3\\lib\\site-packages (from tensorboard<2.14,>=2.13->tensorflow-intel==2.13.0->tensorflow[and-cuda]) (1.0.0)\n",
      "Requirement already satisfied: cachetools<6.0,>=2.0.0 in c:\\users\\om\\anaconda3\\lib\\site-packages (from google-auth<3,>=1.6.3->tensorboard<2.14,>=2.13->tensorflow-intel==2.13.0->tensorflow[and-cuda]) (5.3.0)\n",
      "Requirement already satisfied: rsa<5,>=3.1.4 in c:\\users\\om\\anaconda3\\lib\\site-packages (from google-auth<3,>=1.6.3->tensorboard<2.14,>=2.13->tensorflow-intel==2.13.0->tensorflow[and-cuda]) (4.9)\n",
      "Requirement already satisfied: pyasn1-modules>=0.2.1 in c:\\users\\om\\anaconda3\\lib\\site-packages (from google-auth<3,>=1.6.3->tensorboard<2.14,>=2.13->tensorflow-intel==2.13.0->tensorflow[and-cuda]) (0.3.0)\n",
      "Requirement already satisfied: urllib3<2.0 in c:\\users\\om\\anaconda3\\lib\\site-packages (from google-auth<3,>=1.6.3->tensorboard<2.14,>=2.13->tensorflow-intel==2.13.0->tensorflow[and-cuda]) (1.26.4)\n",
      "Requirement already satisfied: requests-oauthlib>=0.7.0 in c:\\users\\om\\anaconda3\\lib\\site-packages (from google-auth-oauthlib<1.1,>=0.5->tensorboard<2.14,>=2.13->tensorflow-intel==2.13.0->tensorflow[and-cuda]) (1.3.1)\n",
      "Requirement already satisfied: importlib-metadata>=4.4 in c:\\users\\om\\anaconda3\\lib\\site-packages (from markdown>=2.6.8->tensorboard<2.14,>=2.13->tensorflow-intel==2.13.0->tensorflow[and-cuda]) (6.6.0)\n",
      "Requirement already satisfied: zipp>=0.5 in c:\\users\\om\\anaconda3\\lib\\site-packages (from importlib-metadata>=4.4->markdown>=2.6.8->tensorboard<2.14,>=2.13->tensorflow-intel==2.13.0->tensorflow[and-cuda]) (3.4.1)\n",
      "Requirement already satisfied: pyasn1<0.6.0,>=0.4.6 in c:\\users\\om\\anaconda3\\lib\\site-packages (from pyasn1-modules>=0.2.1->google-auth<3,>=1.6.3->tensorboard<2.14,>=2.13->tensorflow-intel==2.13.0->tensorflow[and-cuda]) (0.5.0)\n",
      "Requirement already satisfied: certifi>=2017.4.17 in c:\\users\\om\\anaconda3\\lib\\site-packages (from requests<3,>=2.21.0->tensorboard<2.14,>=2.13->tensorflow-intel==2.13.0->tensorflow[and-cuda]) (2020.12.5)\n",
      "Requirement already satisfied: chardet<5,>=3.0.2 in c:\\users\\om\\anaconda3\\lib\\site-packages (from requests<3,>=2.21.0->tensorboard<2.14,>=2.13->tensorflow-intel==2.13.0->tensorflow[and-cuda]) (4.0.0)\n",
      "Requirement already satisfied: idna<3,>=2.5 in c:\\users\\om\\anaconda3\\lib\\site-packages (from requests<3,>=2.21.0->tensorboard<2.14,>=2.13->tensorflow-intel==2.13.0->tensorflow[and-cuda]) (2.10)\n",
      "Requirement already satisfied: oauthlib>=3.0.0 in c:\\users\\om\\anaconda3\\lib\\site-packages (from requests-oauthlib>=0.7.0->google-auth-oauthlib<1.1,>=0.5->tensorboard<2.14,>=2.13->tensorflow-intel==2.13.0->tensorflow[and-cuda]) (3.2.2)\n",
      "Requirement already satisfied: pyparsing>=2.0.2 in c:\\users\\om\\anaconda3\\lib\\site-packages (from packaging->tensorflow-intel==2.13.0->tensorflow[and-cuda]) (2.4.7)\n"
     ]
    },
    {
     "name": "stderr",
     "output_type": "stream",
     "text": [
      "WARNING: tensorflow 2.13.0 does not provide the extra 'and-cuda'\n"
     ]
    }
   ],
   "source": [
    "!pip install tensorflow[and-cuda]\n"
   ]
  },
  {
   "cell_type": "code",
   "execution_count": 17,
   "metadata": {},
   "outputs": [
    {
     "ename": "AttributeError",
     "evalue": "module 'numpy' has no attribute 'typeDict'",
     "output_type": "error",
     "traceback": [
      "\u001b[1;31m---------------------------------------------------------------------------\u001b[0m",
      "\u001b[1;31mAttributeError\u001b[0m                            Traceback (most recent call last)",
      "\u001b[1;32m<ipython-input-17-d6507231c070>\u001b[0m in \u001b[0;36m<module>\u001b[1;34m\u001b[0m\n\u001b[0;32m      1\u001b[0m \u001b[1;32mimport\u001b[0m \u001b[0mnumpy\u001b[0m \u001b[1;32mas\u001b[0m \u001b[0mnp\u001b[0m\u001b[1;33m\u001b[0m\u001b[1;33m\u001b[0m\u001b[0m\n\u001b[0;32m      2\u001b[0m \u001b[1;32mimport\u001b[0m \u001b[0mmatplotlib\u001b[0m\u001b[1;33m.\u001b[0m\u001b[0mpyplot\u001b[0m \u001b[1;32mas\u001b[0m \u001b[0mplt\u001b[0m\u001b[1;33m\u001b[0m\u001b[1;33m\u001b[0m\u001b[0m\n\u001b[1;32m----> 3\u001b[1;33m \u001b[1;32mimport\u001b[0m \u001b[0mtensorflow\u001b[0m \u001b[1;32mas\u001b[0m \u001b[0mtf\u001b[0m\u001b[1;33m\u001b[0m\u001b[1;33m\u001b[0m\u001b[0m\n\u001b[0m\u001b[0;32m      4\u001b[0m \u001b[1;32mfrom\u001b[0m \u001b[0mtensorflow\u001b[0m\u001b[1;33m.\u001b[0m\u001b[0mkeras\u001b[0m\u001b[1;33m.\u001b[0m\u001b[0mdatasets\u001b[0m \u001b[1;32mimport\u001b[0m \u001b[0mcifar10\u001b[0m\u001b[1;33m\u001b[0m\u001b[1;33m\u001b[0m\u001b[0m\n\u001b[0;32m      5\u001b[0m \u001b[1;32mfrom\u001b[0m \u001b[0mtensorflow\u001b[0m\u001b[1;33m.\u001b[0m\u001b[0mkeras\u001b[0m\u001b[1;33m.\u001b[0m\u001b[0mmodels\u001b[0m \u001b[1;32mimport\u001b[0m \u001b[0mSequential\u001b[0m\u001b[1;33m\u001b[0m\u001b[1;33m\u001b[0m\u001b[0m\n",
      "\u001b[1;32m~\\anaconda3\\lib\\site-packages\\tensorflow\\__init__.py\u001b[0m in \u001b[0;36m<module>\u001b[1;34m\u001b[0m\n\u001b[0;32m     36\u001b[0m \u001b[1;32mimport\u001b[0m \u001b[0mtyping\u001b[0m \u001b[1;32mas\u001b[0m \u001b[0m_typing\u001b[0m\u001b[1;33m\u001b[0m\u001b[1;33m\u001b[0m\u001b[0m\n\u001b[0;32m     37\u001b[0m \u001b[1;33m\u001b[0m\u001b[0m\n\u001b[1;32m---> 38\u001b[1;33m \u001b[1;32mfrom\u001b[0m \u001b[0mtensorflow\u001b[0m\u001b[1;33m.\u001b[0m\u001b[0mpython\u001b[0m\u001b[1;33m.\u001b[0m\u001b[0mtools\u001b[0m \u001b[1;32mimport\u001b[0m \u001b[0mmodule_util\u001b[0m \u001b[1;32mas\u001b[0m \u001b[0m_module_util\u001b[0m\u001b[1;33m\u001b[0m\u001b[1;33m\u001b[0m\u001b[0m\n\u001b[0m\u001b[0;32m     39\u001b[0m \u001b[1;32mfrom\u001b[0m \u001b[0mtensorflow\u001b[0m\u001b[1;33m.\u001b[0m\u001b[0mpython\u001b[0m\u001b[1;33m.\u001b[0m\u001b[0mutil\u001b[0m\u001b[1;33m.\u001b[0m\u001b[0mlazy_loader\u001b[0m \u001b[1;32mimport\u001b[0m \u001b[0mLazyLoader\u001b[0m \u001b[1;32mas\u001b[0m \u001b[0m_LazyLoader\u001b[0m\u001b[1;33m\u001b[0m\u001b[1;33m\u001b[0m\u001b[0m\n\u001b[0;32m     40\u001b[0m \u001b[1;33m\u001b[0m\u001b[0m\n",
      "\u001b[1;32m~\\anaconda3\\lib\\site-packages\\tensorflow\\python\\__init__.py\u001b[0m in \u001b[0;36m<module>\u001b[1;34m\u001b[0m\n\u001b[0;32m     43\u001b[0m \u001b[1;32mfrom\u001b[0m \u001b[0mtensorflow\u001b[0m\u001b[1;33m.\u001b[0m\u001b[0mpython\u001b[0m \u001b[1;32mimport\u001b[0m \u001b[0mdistribute\u001b[0m\u001b[1;33m\u001b[0m\u001b[1;33m\u001b[0m\u001b[0m\n\u001b[0;32m     44\u001b[0m \u001b[1;31m# from tensorflow.python import keras\u001b[0m\u001b[1;33m\u001b[0m\u001b[1;33m\u001b[0m\u001b[1;33m\u001b[0m\u001b[0m\n\u001b[1;32m---> 45\u001b[1;33m \u001b[1;32mfrom\u001b[0m \u001b[0mtensorflow\u001b[0m\u001b[1;33m.\u001b[0m\u001b[0mpython\u001b[0m\u001b[1;33m.\u001b[0m\u001b[0mfeature_column\u001b[0m \u001b[1;32mimport\u001b[0m \u001b[0mfeature_column_lib\u001b[0m \u001b[1;32mas\u001b[0m \u001b[0mfeature_column\u001b[0m\u001b[1;33m\u001b[0m\u001b[1;33m\u001b[0m\u001b[0m\n\u001b[0m\u001b[0;32m     46\u001b[0m \u001b[1;31m# from tensorflow.python.layers import layers\u001b[0m\u001b[1;33m\u001b[0m\u001b[1;33m\u001b[0m\u001b[1;33m\u001b[0m\u001b[0m\n\u001b[0;32m     47\u001b[0m \u001b[1;32mfrom\u001b[0m \u001b[0mtensorflow\u001b[0m\u001b[1;33m.\u001b[0m\u001b[0mpython\u001b[0m\u001b[1;33m.\u001b[0m\u001b[0mmodule\u001b[0m \u001b[1;32mimport\u001b[0m \u001b[0mmodule\u001b[0m\u001b[1;33m\u001b[0m\u001b[1;33m\u001b[0m\u001b[0m\n",
      "\u001b[1;32m~\\anaconda3\\lib\\site-packages\\tensorflow\\python\\feature_column\\feature_column_lib.py\u001b[0m in \u001b[0;36m<module>\u001b[1;34m\u001b[0m\n\u001b[0;32m     16\u001b[0m \u001b[1;33m\u001b[0m\u001b[0m\n\u001b[0;32m     17\u001b[0m \u001b[1;31m# pylint: disable=unused-import,line-too-long,wildcard-import,g-bad-import-order\u001b[0m\u001b[1;33m\u001b[0m\u001b[1;33m\u001b[0m\u001b[1;33m\u001b[0m\u001b[0m\n\u001b[1;32m---> 18\u001b[1;33m \u001b[1;32mfrom\u001b[0m \u001b[0mtensorflow\u001b[0m\u001b[1;33m.\u001b[0m\u001b[0mpython\u001b[0m\u001b[1;33m.\u001b[0m\u001b[0mfeature_column\u001b[0m\u001b[1;33m.\u001b[0m\u001b[0mfeature_column\u001b[0m \u001b[1;32mimport\u001b[0m \u001b[1;33m*\u001b[0m\u001b[1;33m\u001b[0m\u001b[1;33m\u001b[0m\u001b[0m\n\u001b[0m\u001b[0;32m     19\u001b[0m \u001b[1;32mfrom\u001b[0m \u001b[0mtensorflow\u001b[0m\u001b[1;33m.\u001b[0m\u001b[0mpython\u001b[0m\u001b[1;33m.\u001b[0m\u001b[0mfeature_column\u001b[0m\u001b[1;33m.\u001b[0m\u001b[0mfeature_column_v2\u001b[0m \u001b[1;32mimport\u001b[0m \u001b[1;33m*\u001b[0m\u001b[1;33m\u001b[0m\u001b[1;33m\u001b[0m\u001b[0m\n\u001b[0;32m     20\u001b[0m \u001b[1;32mfrom\u001b[0m \u001b[0mtensorflow\u001b[0m\u001b[1;33m.\u001b[0m\u001b[0mpython\u001b[0m\u001b[1;33m.\u001b[0m\u001b[0mfeature_column\u001b[0m\u001b[1;33m.\u001b[0m\u001b[0msequence_feature_column\u001b[0m \u001b[1;32mimport\u001b[0m \u001b[1;33m*\u001b[0m\u001b[1;33m\u001b[0m\u001b[1;33m\u001b[0m\u001b[0m\n",
      "\u001b[1;32m~\\anaconda3\\lib\\site-packages\\tensorflow\\python\\feature_column\\feature_column.py\u001b[0m in \u001b[0;36m<module>\u001b[1;34m\u001b[0m\n\u001b[0;32m    141\u001b[0m \u001b[1;32mfrom\u001b[0m \u001b[0mtensorflow\u001b[0m\u001b[1;33m.\u001b[0m\u001b[0mpython\u001b[0m\u001b[1;33m.\u001b[0m\u001b[0mframework\u001b[0m \u001b[1;32mimport\u001b[0m \u001b[0msparse_tensor\u001b[0m \u001b[1;32mas\u001b[0m \u001b[0msparse_tensor_lib\u001b[0m\u001b[1;33m\u001b[0m\u001b[1;33m\u001b[0m\u001b[0m\n\u001b[0;32m    142\u001b[0m \u001b[1;32mfrom\u001b[0m \u001b[0mtensorflow\u001b[0m\u001b[1;33m.\u001b[0m\u001b[0mpython\u001b[0m\u001b[1;33m.\u001b[0m\u001b[0mframework\u001b[0m \u001b[1;32mimport\u001b[0m \u001b[0mtensor_shape\u001b[0m\u001b[1;33m\u001b[0m\u001b[1;33m\u001b[0m\u001b[0m\n\u001b[1;32m--> 143\u001b[1;33m \u001b[1;32mfrom\u001b[0m \u001b[0mtensorflow\u001b[0m\u001b[1;33m.\u001b[0m\u001b[0mpython\u001b[0m\u001b[1;33m.\u001b[0m\u001b[0mlayers\u001b[0m \u001b[1;32mimport\u001b[0m \u001b[0mbase\u001b[0m\u001b[1;33m\u001b[0m\u001b[1;33m\u001b[0m\u001b[0m\n\u001b[0m\u001b[0;32m    144\u001b[0m \u001b[1;32mfrom\u001b[0m \u001b[0mtensorflow\u001b[0m\u001b[1;33m.\u001b[0m\u001b[0mpython\u001b[0m\u001b[1;33m.\u001b[0m\u001b[0mops\u001b[0m \u001b[1;32mimport\u001b[0m \u001b[0marray_ops\u001b[0m\u001b[1;33m\u001b[0m\u001b[1;33m\u001b[0m\u001b[0m\n\u001b[0;32m    145\u001b[0m \u001b[1;32mfrom\u001b[0m \u001b[0mtensorflow\u001b[0m\u001b[1;33m.\u001b[0m\u001b[0mpython\u001b[0m\u001b[1;33m.\u001b[0m\u001b[0mops\u001b[0m \u001b[1;32mimport\u001b[0m \u001b[0marray_ops_stack\u001b[0m\u001b[1;33m\u001b[0m\u001b[1;33m\u001b[0m\u001b[0m\n",
      "\u001b[1;32m~\\anaconda3\\lib\\site-packages\\tensorflow\\python\\layers\\base.py\u001b[0m in \u001b[0;36m<module>\u001b[1;34m\u001b[0m\n\u001b[0;32m     14\u001b[0m \u001b[1;31m# =============================================================================\u001b[0m\u001b[1;33m\u001b[0m\u001b[1;33m\u001b[0m\u001b[1;33m\u001b[0m\u001b[0m\n\u001b[0;32m     15\u001b[0m \u001b[1;34m\"\"\"Contains the base Layer class, from which all layers inherit.\"\"\"\u001b[0m\u001b[1;33m\u001b[0m\u001b[1;33m\u001b[0m\u001b[0m\n\u001b[1;32m---> 16\u001b[1;33m \u001b[1;32mfrom\u001b[0m \u001b[0mtensorflow\u001b[0m\u001b[1;33m.\u001b[0m\u001b[0mpython\u001b[0m\u001b[1;33m.\u001b[0m\u001b[0mkeras\u001b[0m\u001b[1;33m.\u001b[0m\u001b[0mlegacy_tf_layers\u001b[0m \u001b[1;32mimport\u001b[0m \u001b[0mbase\u001b[0m\u001b[1;33m\u001b[0m\u001b[1;33m\u001b[0m\u001b[0m\n\u001b[0m\u001b[0;32m     17\u001b[0m \u001b[1;33m\u001b[0m\u001b[0m\n\u001b[0;32m     18\u001b[0m \u001b[0mInputSpec\u001b[0m \u001b[1;33m=\u001b[0m \u001b[0mbase\u001b[0m\u001b[1;33m.\u001b[0m\u001b[0mInputSpec\u001b[0m\u001b[1;33m\u001b[0m\u001b[1;33m\u001b[0m\u001b[0m\n",
      "\u001b[1;32m~\\anaconda3\\lib\\site-packages\\tensorflow\\python\\keras\\__init__.py\u001b[0m in \u001b[0;36m<module>\u001b[1;34m\u001b[0m\n\u001b[0;32m     23\u001b[0m \u001b[1;33m\u001b[0m\u001b[0m\n\u001b[0;32m     24\u001b[0m \u001b[1;31m# See b/110718070#comment18 for more details about this import.\u001b[0m\u001b[1;33m\u001b[0m\u001b[1;33m\u001b[0m\u001b[1;33m\u001b[0m\u001b[0m\n\u001b[1;32m---> 25\u001b[1;33m \u001b[1;32mfrom\u001b[0m \u001b[0mtensorflow\u001b[0m\u001b[1;33m.\u001b[0m\u001b[0mpython\u001b[0m\u001b[1;33m.\u001b[0m\u001b[0mkeras\u001b[0m \u001b[1;32mimport\u001b[0m \u001b[0mmodels\u001b[0m\u001b[1;33m\u001b[0m\u001b[1;33m\u001b[0m\u001b[0m\n\u001b[0m\u001b[0;32m     26\u001b[0m \u001b[1;33m\u001b[0m\u001b[0m\n\u001b[0;32m     27\u001b[0m \u001b[1;32mfrom\u001b[0m \u001b[0mtensorflow\u001b[0m\u001b[1;33m.\u001b[0m\u001b[0mpython\u001b[0m\u001b[1;33m.\u001b[0m\u001b[0mkeras\u001b[0m\u001b[1;33m.\u001b[0m\u001b[0mengine\u001b[0m\u001b[1;33m.\u001b[0m\u001b[0minput_layer\u001b[0m \u001b[1;32mimport\u001b[0m \u001b[0mInput\u001b[0m\u001b[1;33m\u001b[0m\u001b[1;33m\u001b[0m\u001b[0m\n",
      "\u001b[1;32m~\\anaconda3\\lib\\site-packages\\tensorflow\\python\\keras\\models.py\u001b[0m in \u001b[0;36m<module>\u001b[1;34m\u001b[0m\n\u001b[0;32m     20\u001b[0m \u001b[1;32mfrom\u001b[0m \u001b[0mtensorflow\u001b[0m\u001b[1;33m.\u001b[0m\u001b[0mpython\u001b[0m\u001b[1;33m.\u001b[0m\u001b[0mkeras\u001b[0m \u001b[1;32mimport\u001b[0m \u001b[0mmetrics\u001b[0m \u001b[1;32mas\u001b[0m \u001b[0mmetrics_module\u001b[0m\u001b[1;33m\u001b[0m\u001b[1;33m\u001b[0m\u001b[0m\n\u001b[0;32m     21\u001b[0m \u001b[1;32mfrom\u001b[0m \u001b[0mtensorflow\u001b[0m\u001b[1;33m.\u001b[0m\u001b[0mpython\u001b[0m\u001b[1;33m.\u001b[0m\u001b[0mkeras\u001b[0m \u001b[1;32mimport\u001b[0m \u001b[0moptimizer_v1\u001b[0m\u001b[1;33m\u001b[0m\u001b[1;33m\u001b[0m\u001b[0m\n\u001b[1;32m---> 22\u001b[1;33m \u001b[1;32mfrom\u001b[0m \u001b[0mtensorflow\u001b[0m\u001b[1;33m.\u001b[0m\u001b[0mpython\u001b[0m\u001b[1;33m.\u001b[0m\u001b[0mkeras\u001b[0m\u001b[1;33m.\u001b[0m\u001b[0mengine\u001b[0m \u001b[1;32mimport\u001b[0m \u001b[0mfunctional\u001b[0m\u001b[1;33m\u001b[0m\u001b[1;33m\u001b[0m\u001b[0m\n\u001b[0m\u001b[0;32m     23\u001b[0m \u001b[1;32mfrom\u001b[0m \u001b[0mtensorflow\u001b[0m\u001b[1;33m.\u001b[0m\u001b[0mpython\u001b[0m\u001b[1;33m.\u001b[0m\u001b[0mkeras\u001b[0m\u001b[1;33m.\u001b[0m\u001b[0mengine\u001b[0m \u001b[1;32mimport\u001b[0m \u001b[0msequential\u001b[0m\u001b[1;33m\u001b[0m\u001b[1;33m\u001b[0m\u001b[0m\n\u001b[0;32m     24\u001b[0m \u001b[1;32mfrom\u001b[0m \u001b[0mtensorflow\u001b[0m\u001b[1;33m.\u001b[0m\u001b[0mpython\u001b[0m\u001b[1;33m.\u001b[0m\u001b[0mkeras\u001b[0m\u001b[1;33m.\u001b[0m\u001b[0mengine\u001b[0m \u001b[1;32mimport\u001b[0m \u001b[0mtraining\u001b[0m\u001b[1;33m\u001b[0m\u001b[1;33m\u001b[0m\u001b[0m\n",
      "\u001b[1;32m~\\anaconda3\\lib\\site-packages\\tensorflow\\python\\keras\\engine\\functional.py\u001b[0m in \u001b[0;36m<module>\u001b[1;34m\u001b[0m\n\u001b[0;32m     30\u001b[0m \u001b[1;32mfrom\u001b[0m \u001b[0mtensorflow\u001b[0m\u001b[1;33m.\u001b[0m\u001b[0mpython\u001b[0m\u001b[1;33m.\u001b[0m\u001b[0mkeras\u001b[0m\u001b[1;33m.\u001b[0m\u001b[0mengine\u001b[0m \u001b[1;32mimport\u001b[0m \u001b[0minput_spec\u001b[0m\u001b[1;33m\u001b[0m\u001b[1;33m\u001b[0m\u001b[0m\n\u001b[0;32m     31\u001b[0m \u001b[1;32mfrom\u001b[0m \u001b[0mtensorflow\u001b[0m\u001b[1;33m.\u001b[0m\u001b[0mpython\u001b[0m\u001b[1;33m.\u001b[0m\u001b[0mkeras\u001b[0m\u001b[1;33m.\u001b[0m\u001b[0mengine\u001b[0m \u001b[1;32mimport\u001b[0m \u001b[0mnode\u001b[0m \u001b[1;32mas\u001b[0m \u001b[0mnode_module\u001b[0m\u001b[1;33m\u001b[0m\u001b[1;33m\u001b[0m\u001b[0m\n\u001b[1;32m---> 32\u001b[1;33m \u001b[1;32mfrom\u001b[0m \u001b[0mtensorflow\u001b[0m\u001b[1;33m.\u001b[0m\u001b[0mpython\u001b[0m\u001b[1;33m.\u001b[0m\u001b[0mkeras\u001b[0m\u001b[1;33m.\u001b[0m\u001b[0mengine\u001b[0m \u001b[1;32mimport\u001b[0m \u001b[0mtraining\u001b[0m \u001b[1;32mas\u001b[0m \u001b[0mtraining_lib\u001b[0m\u001b[1;33m\u001b[0m\u001b[1;33m\u001b[0m\u001b[0m\n\u001b[0m\u001b[0;32m     33\u001b[0m \u001b[1;32mfrom\u001b[0m \u001b[0mtensorflow\u001b[0m\u001b[1;33m.\u001b[0m\u001b[0mpython\u001b[0m\u001b[1;33m.\u001b[0m\u001b[0mkeras\u001b[0m\u001b[1;33m.\u001b[0m\u001b[0mengine\u001b[0m \u001b[1;32mimport\u001b[0m \u001b[0mtraining_utils\u001b[0m\u001b[1;33m\u001b[0m\u001b[1;33m\u001b[0m\u001b[0m\n\u001b[0;32m     34\u001b[0m \u001b[1;32mfrom\u001b[0m \u001b[0mtensorflow\u001b[0m\u001b[1;33m.\u001b[0m\u001b[0mpython\u001b[0m\u001b[1;33m.\u001b[0m\u001b[0mkeras\u001b[0m\u001b[1;33m.\u001b[0m\u001b[0msaving\u001b[0m\u001b[1;33m.\u001b[0m\u001b[0msaved_model\u001b[0m \u001b[1;32mimport\u001b[0m \u001b[0mnetwork_serialization\u001b[0m\u001b[1;33m\u001b[0m\u001b[1;33m\u001b[0m\u001b[0m\n",
      "\u001b[1;32m~\\anaconda3\\lib\\site-packages\\tensorflow\\python\\keras\\engine\\training.py\u001b[0m in \u001b[0;36m<module>\u001b[1;34m\u001b[0m\n\u001b[0;32m     51\u001b[0m \u001b[1;32mfrom\u001b[0m \u001b[0mtensorflow\u001b[0m\u001b[1;33m.\u001b[0m\u001b[0mpython\u001b[0m\u001b[1;33m.\u001b[0m\u001b[0mkeras\u001b[0m\u001b[1;33m.\u001b[0m\u001b[0mmixed_precision\u001b[0m \u001b[1;32mimport\u001b[0m \u001b[0mloss_scale_optimizer\u001b[0m \u001b[1;32mas\u001b[0m \u001b[0mlso\u001b[0m\u001b[1;33m\u001b[0m\u001b[1;33m\u001b[0m\u001b[0m\n\u001b[0;32m     52\u001b[0m \u001b[1;32mfrom\u001b[0m \u001b[0mtensorflow\u001b[0m\u001b[1;33m.\u001b[0m\u001b[0mpython\u001b[0m\u001b[1;33m.\u001b[0m\u001b[0mkeras\u001b[0m\u001b[1;33m.\u001b[0m\u001b[0mmixed_precision\u001b[0m \u001b[1;32mimport\u001b[0m \u001b[0mpolicy\u001b[0m\u001b[1;33m\u001b[0m\u001b[1;33m\u001b[0m\u001b[0m\n\u001b[1;32m---> 53\u001b[1;33m \u001b[1;32mfrom\u001b[0m \u001b[0mtensorflow\u001b[0m\u001b[1;33m.\u001b[0m\u001b[0mpython\u001b[0m\u001b[1;33m.\u001b[0m\u001b[0mkeras\u001b[0m\u001b[1;33m.\u001b[0m\u001b[0msaving\u001b[0m \u001b[1;32mimport\u001b[0m \u001b[0mhdf5_format\u001b[0m\u001b[1;33m\u001b[0m\u001b[1;33m\u001b[0m\u001b[0m\n\u001b[0m\u001b[0;32m     54\u001b[0m \u001b[1;32mfrom\u001b[0m \u001b[0mtensorflow\u001b[0m\u001b[1;33m.\u001b[0m\u001b[0mpython\u001b[0m\u001b[1;33m.\u001b[0m\u001b[0mkeras\u001b[0m\u001b[1;33m.\u001b[0m\u001b[0msaving\u001b[0m \u001b[1;32mimport\u001b[0m \u001b[0msave\u001b[0m\u001b[1;33m\u001b[0m\u001b[1;33m\u001b[0m\u001b[0m\n\u001b[0;32m     55\u001b[0m \u001b[1;32mfrom\u001b[0m \u001b[0mtensorflow\u001b[0m\u001b[1;33m.\u001b[0m\u001b[0mpython\u001b[0m\u001b[1;33m.\u001b[0m\u001b[0mkeras\u001b[0m\u001b[1;33m.\u001b[0m\u001b[0msaving\u001b[0m \u001b[1;32mimport\u001b[0m \u001b[0msaving_utils\u001b[0m\u001b[1;33m\u001b[0m\u001b[1;33m\u001b[0m\u001b[0m\n",
      "\u001b[1;32m~\\anaconda3\\lib\\site-packages\\tensorflow\\python\\keras\\saving\\hdf5_format.py\u001b[0m in \u001b[0;36m<module>\u001b[1;34m\u001b[0m\n\u001b[0;32m     35\u001b[0m \u001b[1;31m# pylint: disable=g-import-not-at-top\u001b[0m\u001b[1;33m\u001b[0m\u001b[1;33m\u001b[0m\u001b[1;33m\u001b[0m\u001b[0m\n\u001b[0;32m     36\u001b[0m \u001b[1;32mtry\u001b[0m\u001b[1;33m:\u001b[0m\u001b[1;33m\u001b[0m\u001b[1;33m\u001b[0m\u001b[0m\n\u001b[1;32m---> 37\u001b[1;33m   \u001b[1;32mimport\u001b[0m \u001b[0mh5py\u001b[0m\u001b[1;33m\u001b[0m\u001b[1;33m\u001b[0m\u001b[0m\n\u001b[0m\u001b[0;32m     38\u001b[0m   \u001b[0mHDF5_OBJECT_HEADER_LIMIT\u001b[0m \u001b[1;33m=\u001b[0m \u001b[1;36m64512\u001b[0m\u001b[1;33m\u001b[0m\u001b[1;33m\u001b[0m\u001b[0m\n\u001b[0;32m     39\u001b[0m \u001b[1;32mexcept\u001b[0m \u001b[0mImportError\u001b[0m\u001b[1;33m:\u001b[0m\u001b[1;33m\u001b[0m\u001b[1;33m\u001b[0m\u001b[0m\n",
      "\u001b[1;32m~\\anaconda3\\lib\\site-packages\\h5py\\__init__.py\u001b[0m in \u001b[0;36m<module>\u001b[1;34m\u001b[0m\n\u001b[0;32m     44\u001b[0m \u001b[0m_errors\u001b[0m\u001b[1;33m.\u001b[0m\u001b[0msilence_errors\u001b[0m\u001b[1;33m(\u001b[0m\u001b[1;33m)\u001b[0m\u001b[1;33m\u001b[0m\u001b[1;33m\u001b[0m\u001b[0m\n\u001b[0;32m     45\u001b[0m \u001b[1;33m\u001b[0m\u001b[0m\n\u001b[1;32m---> 46\u001b[1;33m \u001b[1;32mfrom\u001b[0m \u001b[1;33m.\u001b[0m\u001b[0m_conv\u001b[0m \u001b[1;32mimport\u001b[0m \u001b[0mregister_converters\u001b[0m \u001b[1;32mas\u001b[0m \u001b[0m_register_converters\u001b[0m\u001b[1;33m\u001b[0m\u001b[1;33m\u001b[0m\u001b[0m\n\u001b[0m\u001b[0;32m     47\u001b[0m \u001b[0m_register_converters\u001b[0m\u001b[1;33m(\u001b[0m\u001b[1;33m)\u001b[0m\u001b[1;33m\u001b[0m\u001b[1;33m\u001b[0m\u001b[0m\n\u001b[0;32m     48\u001b[0m \u001b[1;33m\u001b[0m\u001b[0m\n",
      "\u001b[1;32mh5py\\h5t.pxd\u001b[0m in \u001b[0;36minit h5py._conv\u001b[1;34m()\u001b[0m\n",
      "\u001b[1;32mh5py\\h5t.pyx\u001b[0m in \u001b[0;36minit h5py.h5t\u001b[1;34m()\u001b[0m\n",
      "\u001b[1;32m~\\anaconda3\\lib\\site-packages\\numpy\\__init__.py\u001b[0m in \u001b[0;36m__getattr__\u001b[1;34m(attr)\u001b[0m\n\u001b[0;32m    318\u001b[0m             \u001b[1;32mreturn\u001b[0m \u001b[0mTester\u001b[0m\u001b[1;33m\u001b[0m\u001b[1;33m\u001b[0m\u001b[0m\n\u001b[0;32m    319\u001b[0m \u001b[1;33m\u001b[0m\u001b[0m\n\u001b[1;32m--> 320\u001b[1;33m         raise AttributeError(\"module {!r} has no attribute \"\n\u001b[0m\u001b[0;32m    321\u001b[0m                              \"{!r}\".format(__name__, attr))\n\u001b[0;32m    322\u001b[0m \u001b[1;33m\u001b[0m\u001b[0m\n",
      "\u001b[1;31mAttributeError\u001b[0m: module 'numpy' has no attribute 'typeDict'"
     ]
    }
   ],
   "source": [
    "import numpy as np\n",
    "import matplotlib.pyplot as plt\n",
    "import tensorflow as tf\n",
    "from tensorflow.keras.datasets import cifar10\n",
    "from tensorflow.keras.models import Sequential\n",
    "from tensorflow.keras.layers import Flatten, Dense\n",
    "from tensorflow.keras.optimizers import SGD"
   ]
  },
  {
   "cell_type": "code",
   "execution_count": 6,
   "metadata": {},
   "outputs": [
    {
     "name": "stdout",
     "output_type": "stream",
     "text": [
      "Requirement already satisfied: numpy==1.21.6 in c:\\users\\om\\anaconda3\\lib\\site-packages (1.21.6)\n",
      "Note: you may need to restart the kernel to use updated packages.\n"
     ]
    }
   ],
   "source": [
    "pip install numpy==1.21.6"
   ]
  },
  {
   "cell_type": "markdown",
   "metadata": {},
   "source": [
    "Load and preprocess the CIFAR-10 dataset"
   ]
  },
  {
   "cell_type": "code",
   "execution_count": 7,
   "metadata": {},
   "outputs": [
    {
     "name": "stdout",
     "output_type": "stream",
     "text": [
      "Downloading data from https://www.cs.toronto.edu/~kriz/cifar-10-python.tar.gz\n",
      "170498071/170498071 [==============================] - 21s 0us/step\n"
     ]
    }
   ],
   "source": [
    "(x_train, y_train), (x_test, y_test) = cifar10.load_data()"
   ]
  },
  {
   "cell_type": "code",
   "execution_count": 8,
   "metadata": {},
   "outputs": [],
   "source": [
    "y_train = y_train.reshape(-1,) #convert to 1D array\n",
    "y_test = y_test.reshape(-1,)"
   ]
  },
  {
   "cell_type": "code",
   "execution_count": 9,
   "metadata": {},
   "outputs": [],
   "source": [
    "x_train, x_test = x_train / 255.0, x_test / 255.0  # Normalize pixel values to the range [0, 1]"
   ]
  },
  {
   "cell_type": "markdown",
   "metadata": {},
   "source": [
    "Define the network architecture"
   ]
  },
  {
   "cell_type": "code",
   "execution_count": 10,
   "metadata": {},
   "outputs": [],
   "source": [
    "ffnn = Sequential([\n",
    "    Flatten(input_shape=(32, 32, 3)),  # Flatten the 32x32x3 input images\n",
    "    Dense(256, activation='relu'),    # First hidden layer with ReLU activation\n",
    "    Dense(128, activation='relu'),    # Second hidden layer with ReLU activation\n",
    "    Dense(10, activation='softmax')    # Output layer with softmax activation for classification\n",
    "])\n",
    "ffnn.compile(optimizer='SGD',\n",
    "              loss='sparse_categorical_crossentropy',\n",
    "              metrics=['accuracy'])"
   ]
  },
  {
   "cell_type": "code",
   "execution_count": 14,
   "metadata": {},
   "outputs": [
    {
     "name": "stdout",
     "output_type": "stream",
     "text": [
      "Epoch 1/100\n",
      "1563/1563 [==============================] - 16s 10ms/step - loss: 1.3387 - accuracy: 0.5255 - val_loss: 1.4025 - val_accuracy: 0.5007\n",
      "Epoch 2/100\n",
      "1563/1563 [==============================] - 19s 12ms/step - loss: 1.3137 - accuracy: 0.5326 - val_loss: 1.4195 - val_accuracy: 0.5029\n",
      "Epoch 3/100\n",
      "1563/1563 [==============================] - 19s 12ms/step - loss: 1.2957 - accuracy: 0.5413 - val_loss: 1.3967 - val_accuracy: 0.5034\n",
      "Epoch 4/100\n",
      "1563/1563 [==============================] - 17s 11ms/step - loss: 1.2782 - accuracy: 0.5488 - val_loss: 1.4352 - val_accuracy: 0.4962\n",
      "Epoch 5/100\n",
      "1563/1563 [==============================] - 16s 11ms/step - loss: 1.2592 - accuracy: 0.5538 - val_loss: 1.4157 - val_accuracy: 0.5040\n",
      "Epoch 6/100\n",
      "1563/1563 [==============================] - 13s 8ms/step - loss: 1.2423 - accuracy: 0.5600 - val_loss: 1.5110 - val_accuracy: 0.4837\n",
      "Epoch 7/100\n",
      "1563/1563 [==============================] - 16s 10ms/step - loss: 1.2262 - accuracy: 0.5663 - val_loss: 1.3810 - val_accuracy: 0.5121\n",
      "Epoch 8/100\n",
      "1563/1563 [==============================] - 17s 11ms/step - loss: 1.2115 - accuracy: 0.5715 - val_loss: 1.3952 - val_accuracy: 0.5075\n",
      "Epoch 9/100\n",
      "1563/1563 [==============================] - 16s 10ms/step - loss: 1.1943 - accuracy: 0.5775 - val_loss: 1.3872 - val_accuracy: 0.5100\n",
      "Epoch 10/100\n",
      "1563/1563 [==============================] - 14s 9ms/step - loss: 1.1817 - accuracy: 0.5829 - val_loss: 1.4125 - val_accuracy: 0.4958\n",
      "Epoch 11/100\n",
      "1563/1563 [==============================] - 14s 9ms/step - loss: 1.1648 - accuracy: 0.5887 - val_loss: 1.3689 - val_accuracy: 0.5183\n",
      "Epoch 12/100\n",
      "1563/1563 [==============================] - 14s 9ms/step - loss: 1.1529 - accuracy: 0.5936 - val_loss: 1.3587 - val_accuracy: 0.5236\n",
      "Epoch 13/100\n",
      "1563/1563 [==============================] - 15s 10ms/step - loss: 1.1395 - accuracy: 0.5981 - val_loss: 1.4063 - val_accuracy: 0.5096\n",
      "Epoch 14/100\n",
      "1563/1563 [==============================] - 14s 9ms/step - loss: 1.1229 - accuracy: 0.6061 - val_loss: 1.3446 - val_accuracy: 0.5276\n",
      "Epoch 15/100\n",
      "1563/1563 [==============================] - 14s 9ms/step - loss: 1.1116 - accuracy: 0.6086 - val_loss: 1.4368 - val_accuracy: 0.4983\n",
      "Epoch 16/100\n",
      "1563/1563 [==============================] - 13s 8ms/step - loss: 1.0980 - accuracy: 0.6127 - val_loss: 1.4172 - val_accuracy: 0.5041\n",
      "Epoch 17/100\n",
      "1563/1563 [==============================] - 16s 10ms/step - loss: 1.0840 - accuracy: 0.6179 - val_loss: 1.3580 - val_accuracy: 0.5255\n",
      "Epoch 18/100\n",
      "1563/1563 [==============================] - 15s 9ms/step - loss: 1.0709 - accuracy: 0.6202 - val_loss: 1.3717 - val_accuracy: 0.5268\n",
      "Epoch 19/100\n",
      "1563/1563 [==============================] - 17s 11ms/step - loss: 1.0596 - accuracy: 0.6259 - val_loss: 1.3734 - val_accuracy: 0.5239\n",
      "Epoch 20/100\n",
      "1563/1563 [==============================] - 18s 11ms/step - loss: 1.0446 - accuracy: 0.6306 - val_loss: 1.4577 - val_accuracy: 0.4921\n",
      "Epoch 21/100\n",
      "1563/1563 [==============================] - 18s 11ms/step - loss: 1.0333 - accuracy: 0.6367 - val_loss: 1.4446 - val_accuracy: 0.5095\n",
      "Epoch 22/100\n",
      "1563/1563 [==============================] - 19s 12ms/step - loss: 1.0220 - accuracy: 0.6376 - val_loss: 1.3502 - val_accuracy: 0.5347\n",
      "Epoch 23/100\n",
      "1563/1563 [==============================] - 19s 12ms/step - loss: 1.0108 - accuracy: 0.6435 - val_loss: 1.3985 - val_accuracy: 0.5255\n",
      "Epoch 24/100\n",
      "1563/1563 [==============================] - 17s 11ms/step - loss: 0.9968 - accuracy: 0.6471 - val_loss: 1.3915 - val_accuracy: 0.5310\n",
      "Epoch 25/100\n",
      "1563/1563 [==============================] - 11s 7ms/step - loss: 0.9882 - accuracy: 0.6483 - val_loss: 1.3770 - val_accuracy: 0.5329\n",
      "Epoch 26/100\n",
      "1563/1563 [==============================] - 14s 9ms/step - loss: 0.9769 - accuracy: 0.6549 - val_loss: 1.3478 - val_accuracy: 0.5286\n",
      "Epoch 27/100\n",
      "1563/1563 [==============================] - 15s 9ms/step - loss: 0.9629 - accuracy: 0.6596 - val_loss: 1.4012 - val_accuracy: 0.5220\n",
      "Epoch 28/100\n",
      "1563/1563 [==============================] - 14s 9ms/step - loss: 0.9512 - accuracy: 0.6637 - val_loss: 1.3958 - val_accuracy: 0.5245\n",
      "Epoch 29/100\n",
      "1563/1563 [==============================] - 14s 9ms/step - loss: 0.9387 - accuracy: 0.6679 - val_loss: 1.4059 - val_accuracy: 0.5289\n",
      "Epoch 30/100\n",
      "1563/1563 [==============================] - 15s 10ms/step - loss: 0.9308 - accuracy: 0.6735 - val_loss: 1.4140 - val_accuracy: 0.5216\n",
      "Epoch 31/100\n",
      "1563/1563 [==============================] - 15s 10ms/step - loss: 0.9202 - accuracy: 0.6756 - val_loss: 1.4000 - val_accuracy: 0.5305\n",
      "Epoch 32/100\n",
      "1563/1563 [==============================] - 13s 8ms/step - loss: 0.9091 - accuracy: 0.6790 - val_loss: 1.3904 - val_accuracy: 0.5362\n",
      "Epoch 33/100\n",
      "1563/1563 [==============================] - 13s 8ms/step - loss: 0.8964 - accuracy: 0.6825 - val_loss: 1.4595 - val_accuracy: 0.5202\n",
      "Epoch 34/100\n",
      "1563/1563 [==============================] - 14s 9ms/step - loss: 0.8881 - accuracy: 0.6860 - val_loss: 1.4004 - val_accuracy: 0.5365\n",
      "Epoch 35/100\n",
      "1563/1563 [==============================] - 13s 8ms/step - loss: 0.8741 - accuracy: 0.6913 - val_loss: 1.4333 - val_accuracy: 0.5269\n",
      "Epoch 36/100\n",
      "1563/1563 [==============================] - 15s 10ms/step - loss: 0.8638 - accuracy: 0.6943 - val_loss: 1.4911 - val_accuracy: 0.5258\n",
      "Epoch 37/100\n",
      "1563/1563 [==============================] - 13s 8ms/step - loss: 0.8561 - accuracy: 0.6979 - val_loss: 1.4785 - val_accuracy: 0.5227\n",
      "Epoch 38/100\n",
      "1563/1563 [==============================] - 14s 9ms/step - loss: 0.8418 - accuracy: 0.7024 - val_loss: 1.4955 - val_accuracy: 0.5302\n",
      "Epoch 39/100\n",
      "1563/1563 [==============================] - 13s 9ms/step - loss: 0.8334 - accuracy: 0.7033 - val_loss: 1.4922 - val_accuracy: 0.5242\n",
      "Epoch 40/100\n",
      "1563/1563 [==============================] - 15s 10ms/step - loss: 0.8274 - accuracy: 0.7077 - val_loss: 1.6939 - val_accuracy: 0.4919\n",
      "Epoch 41/100\n",
      "1563/1563 [==============================] - 15s 10ms/step - loss: 0.8129 - accuracy: 0.7130 - val_loss: 1.5158 - val_accuracy: 0.5257\n",
      "Epoch 42/100\n",
      "1563/1563 [==============================] - 16s 11ms/step - loss: 0.8024 - accuracy: 0.7146 - val_loss: 1.5370 - val_accuracy: 0.5233\n",
      "Epoch 43/100\n",
      "1563/1563 [==============================] - 15s 10ms/step - loss: 0.7904 - accuracy: 0.7219 - val_loss: 1.4732 - val_accuracy: 0.5327\n",
      "Epoch 44/100\n",
      "1563/1563 [==============================] - 18s 11ms/step - loss: 0.7816 - accuracy: 0.7250 - val_loss: 1.4657 - val_accuracy: 0.5314\n",
      "Epoch 45/100\n",
      "1563/1563 [==============================] - 17s 11ms/step - loss: 0.7735 - accuracy: 0.7267 - val_loss: 1.5269 - val_accuracy: 0.5228\n",
      "Epoch 46/100\n",
      "1563/1563 [==============================] - 17s 11ms/step - loss: 0.7626 - accuracy: 0.7319 - val_loss: 1.5649 - val_accuracy: 0.5179\n",
      "Epoch 47/100\n",
      "1563/1563 [==============================] - 16s 10ms/step - loss: 0.7530 - accuracy: 0.7352 - val_loss: 1.6571 - val_accuracy: 0.5027\n",
      "Epoch 48/100\n",
      "1563/1563 [==============================] - 16s 10ms/step - loss: 0.7468 - accuracy: 0.7349 - val_loss: 1.5294 - val_accuracy: 0.5275\n",
      "Epoch 49/100\n",
      "1563/1563 [==============================] - 16s 10ms/step - loss: 0.7338 - accuracy: 0.7403 - val_loss: 1.6060 - val_accuracy: 0.5089\n",
      "Epoch 50/100\n",
      "1563/1563 [==============================] - 12s 8ms/step - loss: 0.7208 - accuracy: 0.7482 - val_loss: 1.5220 - val_accuracy: 0.5278\n",
      "Epoch 51/100\n",
      "1563/1563 [==============================] - 15s 9ms/step - loss: 0.7153 - accuracy: 0.7480 - val_loss: 1.6150 - val_accuracy: 0.5120\n",
      "Epoch 52/100\n",
      "1563/1563 [==============================] - 18s 11ms/step - loss: 0.7020 - accuracy: 0.7522 - val_loss: 1.6619 - val_accuracy: 0.5161\n",
      "Epoch 53/100\n",
      "1563/1563 [==============================] - 14s 9ms/step - loss: 0.6967 - accuracy: 0.7540 - val_loss: 1.5289 - val_accuracy: 0.5328\n",
      "Epoch 54/100\n",
      "1563/1563 [==============================] - 16s 10ms/step - loss: 0.6845 - accuracy: 0.7579 - val_loss: 1.6338 - val_accuracy: 0.5170\n",
      "Epoch 55/100\n",
      "1563/1563 [==============================] - 15s 10ms/step - loss: 0.6837 - accuracy: 0.7584 - val_loss: 1.5924 - val_accuracy: 0.5206\n",
      "Epoch 56/100\n",
      "1563/1563 [==============================] - 14s 9ms/step - loss: 0.6680 - accuracy: 0.7666 - val_loss: 1.5871 - val_accuracy: 0.5275\n",
      "Epoch 57/100\n",
      "1563/1563 [==============================] - 17s 11ms/step - loss: 0.6566 - accuracy: 0.7689 - val_loss: 1.5668 - val_accuracy: 0.5424\n",
      "Epoch 58/100\n",
      "1563/1563 [==============================] - 17s 11ms/step - loss: 0.6503 - accuracy: 0.7708 - val_loss: 1.7563 - val_accuracy: 0.5047\n",
      "Epoch 59/100\n",
      "1563/1563 [==============================] - 16s 10ms/step - loss: 0.6381 - accuracy: 0.7751 - val_loss: 1.7254 - val_accuracy: 0.5030\n",
      "Epoch 60/100\n",
      "1563/1563 [==============================] - 17s 11ms/step - loss: 0.6351 - accuracy: 0.7763 - val_loss: 1.8155 - val_accuracy: 0.4855\n",
      "Epoch 61/100\n",
      "1563/1563 [==============================] - 15s 9ms/step - loss: 0.6285 - accuracy: 0.7806 - val_loss: 1.8420 - val_accuracy: 0.4962\n",
      "Epoch 62/100\n",
      "1563/1563 [==============================] - 16s 10ms/step - loss: 0.6214 - accuracy: 0.7808 - val_loss: 1.7516 - val_accuracy: 0.5093\n",
      "Epoch 63/100\n",
      "1563/1563 [==============================] - 18s 11ms/step - loss: 0.6090 - accuracy: 0.7845 - val_loss: 1.6994 - val_accuracy: 0.5261\n",
      "Epoch 64/100\n",
      "1563/1563 [==============================] - 17s 11ms/step - loss: 0.6004 - accuracy: 0.7886 - val_loss: 1.7664 - val_accuracy: 0.5064\n",
      "Epoch 65/100\n",
      "1563/1563 [==============================] - 17s 11ms/step - loss: 0.5908 - accuracy: 0.7927 - val_loss: 1.8276 - val_accuracy: 0.5048\n",
      "Epoch 66/100\n",
      "1563/1563 [==============================] - 17s 11ms/step - loss: 0.5831 - accuracy: 0.7949 - val_loss: 1.7438 - val_accuracy: 0.5202\n",
      "Epoch 67/100\n",
      "1563/1563 [==============================] - 17s 11ms/step - loss: 0.5748 - accuracy: 0.7967 - val_loss: 1.7832 - val_accuracy: 0.5223\n",
      "Epoch 68/100\n",
      "1563/1563 [==============================] - 17s 11ms/step - loss: 0.5682 - accuracy: 0.8020 - val_loss: 1.7954 - val_accuracy: 0.5169\n",
      "Epoch 69/100\n",
      "1563/1563 [==============================] - 13s 8ms/step - loss: 0.5589 - accuracy: 0.8044 - val_loss: 1.9034 - val_accuracy: 0.5054\n",
      "Epoch 70/100\n",
      "1563/1563 [==============================] - 16s 10ms/step - loss: 0.5521 - accuracy: 0.8055 - val_loss: 1.8196 - val_accuracy: 0.5180\n",
      "Epoch 71/100\n",
      "1563/1563 [==============================] - 12s 8ms/step - loss: 0.5464 - accuracy: 0.8074 - val_loss: 1.7354 - val_accuracy: 0.5310\n",
      "Epoch 72/100\n",
      "1563/1563 [==============================] - 13s 8ms/step - loss: 0.5406 - accuracy: 0.8104 - val_loss: 1.7732 - val_accuracy: 0.5312\n",
      "Epoch 73/100\n",
      "1563/1563 [==============================] - 12s 8ms/step - loss: 0.5281 - accuracy: 0.8172 - val_loss: 1.8719 - val_accuracy: 0.5109\n",
      "Epoch 74/100\n",
      "1563/1563 [==============================] - 17s 11ms/step - loss: 0.5225 - accuracy: 0.8160 - val_loss: 1.8800 - val_accuracy: 0.5205\n",
      "Epoch 75/100\n",
      "1563/1563 [==============================] - 16s 10ms/step - loss: 0.5137 - accuracy: 0.8198 - val_loss: 1.8990 - val_accuracy: 0.5159\n",
      "Epoch 76/100\n",
      "1563/1563 [==============================] - 13s 8ms/step - loss: 0.5065 - accuracy: 0.8230 - val_loss: 1.9111 - val_accuracy: 0.5211\n",
      "Epoch 77/100\n",
      "1563/1563 [==============================] - 14s 9ms/step - loss: 0.5049 - accuracy: 0.8218 - val_loss: 1.8820 - val_accuracy: 0.5198\n",
      "Epoch 78/100\n",
      "1563/1563 [==============================] - 18s 12ms/step - loss: 0.4927 - accuracy: 0.8272 - val_loss: 1.9054 - val_accuracy: 0.5213\n",
      "Epoch 79/100\n",
      "1563/1563 [==============================] - 14s 9ms/step - loss: 0.4869 - accuracy: 0.8291 - val_loss: 1.8688 - val_accuracy: 0.5278\n",
      "Epoch 80/100\n",
      "1563/1563 [==============================] - 17s 11ms/step - loss: 0.4850 - accuracy: 0.8281 - val_loss: 1.8759 - val_accuracy: 0.5222\n",
      "Epoch 81/100\n",
      "1563/1563 [==============================] - 16s 10ms/step - loss: 0.4724 - accuracy: 0.8349 - val_loss: 2.1455 - val_accuracy: 0.4958\n",
      "Epoch 82/100\n",
      "1563/1563 [==============================] - 14s 9ms/step - loss: 0.4672 - accuracy: 0.8368 - val_loss: 1.9986 - val_accuracy: 0.5196\n",
      "Epoch 83/100\n",
      "1563/1563 [==============================] - 15s 9ms/step - loss: 0.4580 - accuracy: 0.8403 - val_loss: 1.9396 - val_accuracy: 0.5221\n",
      "Epoch 84/100\n",
      "1563/1563 [==============================] - 13s 8ms/step - loss: 0.4486 - accuracy: 0.8438 - val_loss: 2.0007 - val_accuracy: 0.5206\n",
      "Epoch 85/100\n",
      "1563/1563 [==============================] - 10s 7ms/step - loss: 0.4480 - accuracy: 0.8437 - val_loss: 2.0626 - val_accuracy: 0.5043\n",
      "Epoch 86/100\n",
      "1563/1563 [==============================] - 11s 7ms/step - loss: 0.4413 - accuracy: 0.8445 - val_loss: 2.0125 - val_accuracy: 0.5191\n",
      "Epoch 87/100\n",
      "1563/1563 [==============================] - 17s 11ms/step - loss: 0.4357 - accuracy: 0.8482 - val_loss: 2.1957 - val_accuracy: 0.4951\n",
      "Epoch 88/100\n",
      "1563/1563 [==============================] - 14s 9ms/step - loss: 0.4246 - accuracy: 0.8520 - val_loss: 2.1165 - val_accuracy: 0.5147\n",
      "Epoch 89/100\n",
      "1563/1563 [==============================] - 13s 8ms/step - loss: 0.4186 - accuracy: 0.8557 - val_loss: 2.2316 - val_accuracy: 0.5033\n",
      "Epoch 90/100\n",
      "1563/1563 [==============================] - 13s 8ms/step - loss: 0.4162 - accuracy: 0.8556 - val_loss: 2.1048 - val_accuracy: 0.5144\n",
      "Epoch 91/100\n",
      "1563/1563 [==============================] - 12s 7ms/step - loss: 0.4101 - accuracy: 0.8587 - val_loss: 2.2547 - val_accuracy: 0.4962\n",
      "Epoch 92/100\n",
      "1563/1563 [==============================] - 11s 7ms/step - loss: 0.4058 - accuracy: 0.8599 - val_loss: 2.4038 - val_accuracy: 0.4894\n",
      "Epoch 93/100\n",
      "1563/1563 [==============================] - 12s 8ms/step - loss: 0.4002 - accuracy: 0.8611 - val_loss: 2.0855 - val_accuracy: 0.5259\n",
      "Epoch 94/100\n",
      "1563/1563 [==============================] - 15s 10ms/step - loss: 0.3938 - accuracy: 0.8638 - val_loss: 2.2684 - val_accuracy: 0.5073\n",
      "Epoch 95/100\n",
      "1563/1563 [==============================] - 12s 7ms/step - loss: 0.3865 - accuracy: 0.8659 - val_loss: 2.0981 - val_accuracy: 0.5276\n",
      "Epoch 96/100\n",
      "1563/1563 [==============================] - 12s 7ms/step - loss: 0.3820 - accuracy: 0.8678 - val_loss: 2.1998 - val_accuracy: 0.5201\n",
      "Epoch 97/100\n",
      "1563/1563 [==============================] - 13s 8ms/step - loss: 0.3766 - accuracy: 0.8681 - val_loss: 2.1857 - val_accuracy: 0.5192\n",
      "Epoch 98/100\n",
      "1563/1563 [==============================] - 16s 10ms/step - loss: 0.3674 - accuracy: 0.8716 - val_loss: 2.2649 - val_accuracy: 0.5118\n",
      "Epoch 99/100\n",
      "1563/1563 [==============================] - 16s 11ms/step - loss: 0.3628 - accuracy: 0.8754 - val_loss: 2.3651 - val_accuracy: 0.5015\n",
      "Epoch 100/100\n",
      "1563/1563 [==============================] - 15s 9ms/step - loss: 0.3599 - accuracy: 0.8747 - val_loss: 2.4161 - val_accuracy: 0.4902\n"
     ]
    }
   ],
   "source": [
    "fitted = ffnn.fit(x_train, y_train, epochs=50, validation_data=(x_test, y_test))"
   ]
  },
  {
   "cell_type": "markdown",
   "metadata": {},
   "source": [
    "Evaluate the network"
   ]
  },
  {
   "cell_type": "code",
   "execution_count": 15,
   "metadata": {},
   "outputs": [
    {
     "name": "stdout",
     "output_type": "stream",
     "text": [
      "313/313 [==============================] - 2s 6ms/step - loss: 2.4161 - accuracy: 0.4902\n",
      "Test accuracy: 49.02%\n"
     ]
    }
   ],
   "source": [
    "test_loss, test_acc = ffnn.evaluate(x_test, y_test)\n",
    "print(f\"Test accuracy: {test_acc * 100:.2f}%\")"
   ]
  },
  {
   "cell_type": "markdown",
   "metadata": {},
   "source": [
    "Plot the training loss and accuracy"
   ]
  },
  {
   "cell_type": "code",
   "execution_count": 16,
   "metadata": {},
   "outputs": [
    {
     "data": {
      "image/png": "[encoded data removed]",
      "text/plain": [
       "<Figure size 864x288 with 2 Axes>"
      ]
     },
     "metadata": {
      "needs_background": "light"
     },
     "output_type": "display_data"
    }
   ],
   "source": [
    "plt.figure(figsize=(12, 4))\n",
    "plt.subplot(1, 2, 1)\n",
    "plt.plot(fitted.history['loss'], label='Training Loss')\n",
    "plt.plot(fitted.history['val_loss'], label='Validation Loss')\n",
    "plt.xlabel('Epoch')\n",
    "plt.ylabel('Loss')\n",
    "plt.legend()\n",
    "plt.title('Training and Validation Loss')\n",
    "\n",
    "plt.subplot(1, 2, 2)\n",
    "plt.plot(fitted.history['accuracy'], label='Training Accuracy')\n",
    "plt.plot(fitted.history['val_accuracy'], label='Validation Accuracy')\n",
    "plt.xlabel('Epoch')\n",
    "plt.ylabel('Accuracy')\n",
    "plt.legend()\n",
    "plt.title('Training and Validation Accuracy')\n",
    "\n",
    "plt.show()"
   ]
  },
  {
   "cell_type": "code",
   "execution_count": null,
   "metadata": {},
   "outputs": [],
   "source": []
  }
 ],
 "metadata": {
  "kernelspec": {
   "display_name": "Python 3",
   "language": "python",
   "name": "python3"
  },
  "language_info": {
   "codemirror_mode": {
    "name": "ipython",
    "version": 3
   },
   "file_extension": ".py",
   "mimetype": "text/x-python",
   "name": "python",
   "nbconvert_exporter": "python",
   "pygments_lexer": "ipython3",
   "version": "3.8.8"
  }
 },
 "nbformat": 4,
 "nbformat_minor": 2
}

{
 "cells": [
  {
   "cell_type": "code",
   "execution_count": 1,
   "metadata": {
    "id": "MeRR-wwf9n47"
   },
   "outputs": [],
   "source": [
    "import pandas as pd\n",
    "import numpy as np\n",
    "import matplotlib.pyplot as plt\n",
    "import seaborn as sns\n",
    "import tensorflow as tf\n",
    "from tensorflow.keras. models import Sequential\n",
    "from tensorflow.keras.layers import Dense\n",
    "from tensorflow. keras.layers import Dropout, Flatten"
   ]
  },
  {
   "cell_type": "code",
   "execution_count": 2,
   "metadata": {
    "id": "Usf7heUs91kR"
   },
   "outputs": [],
   "source": [
    "mnist = tf.keras. datasets .mnist"
   ]
  },
  {
   "cell_type": "code",
   "execution_count": 3,
   "metadata": {
    "id": "b3eB9unv-CHy"
   },
   "outputs": [],
   "source": [
    "(x_train, y_train) , (x_test, y_test ) = mnist. load_data()\n",
    "x_train, x_test = x_train/255.0 , x_test/255.0"
   ]
  },
  {
   "cell_type": "code",
   "execution_count": 4,
   "metadata": {
    "colab": {
     "base_uri": "https://localhost:8080/",
     "height": 435
    },
    "id": "ovLrfCaC-Kdw",
    "outputId": "6d12d200-0fb7-48cf-a0a3-c9a8ae79e625"
   },
   "outputs": [
    {
     "data": {
      "image/png": "[encoded data removed]",
      "text/plain": [
       "<Figure size 640x480 with 2 Axes>"
      ]
     },
     "metadata": {},
     "output_type": "display_data"
    }
   ],
   "source": [
    "sns.heatmap(x_train[0])\n",
    "plt.show()"
   ]
  },
  {
   "cell_type": "code",
   "execution_count": 5,
   "metadata": {
    "id": "6yCfhJSr-PhG"
   },
   "outputs": [],
   "source": [
    "model = Sequential([\n",
    "Flatten(input_shape=(28, 28)), Dense(128, activation=\"relu\"),\n",
    "Dropout (0.2),\n",
    "Dense(10)\n",
    "])"
   ]
  },
  {
   "cell_type": "code",
   "execution_count": 6,
   "metadata": {
    "id": "kRnAgJBo-0Ka"
   },
   "outputs": [],
   "source": [
    "predictions = model(x_train[ :1]).numpy()\n"
   ]
  },
  {
   "cell_type": "code",
   "execution_count": 7,
   "metadata": {
    "colab": {
     "base_uri": "https://localhost:8080/"
    },
    "id": "xsdPfunz_EQ2",
    "outputId": "3c7b5863-0610-4e95-a2e6-cb21fc9733e8"
   },
   "outputs": [
    {
     "data": {
      "text/plain": [
       "array([[ 0.8664194 ,  0.4858571 , -0.7985383 , -0.1105038 , -0.07747319,\n",
       "         0.29265708,  0.81413245, -0.6409693 ,  0.47413528, -0.23772989]],\n",
       "      dtype=float32)"
      ]
     },
     "execution_count": 7,
     "metadata": {},
     "output_type": "execute_result"
    }
   ],
   "source": [
    "predictions"
   ]
  },
  {
   "cell_type": "code",
   "execution_count": 8,
   "metadata": {
    "colab": {
     "base_uri": "https://localhost:8080/"
    },
    "id": "-DWtseZa_XcG",
    "outputId": "7dc30894-6ed9-4846-9334-26904d99235d"
   },
   "outputs": [
    {
     "data": {
      "text/plain": [
       "array([[0.18590112, 0.12705913, 0.03517224, 0.06998575, 0.07233603,\n",
       "        0.10473702, 0.17643067, 0.0411748 , 0.12557848, 0.06162488]],\n",
       "      dtype=float32)"
      ]
     },
     "execution_count": 8,
     "metadata": {},
     "output_type": "execute_result"
    }
   ],
   "source": [
    "tf.nn.softmax (predictions).numpy()"
   ]
  },
  {
   "cell_type": "code",
   "execution_count": 9,
   "metadata": {
    "id": "fVVWn4ek_bRI"
   },
   "outputs": [],
   "source": [
    "loss_fn = tf.keras.losses.SparseCategoricalCrossentropy(from_logits=True)"
   ]
  },
  {
   "cell_type": "code",
   "execution_count": 10,
   "metadata": {
    "id": "WWYIZBLf_fXz"
   },
   "outputs": [],
   "source": [
    "model.compile(optimizer=\"adam\" , loss = loss_fn, metrics=[\"accuracy\"])"
   ]
  },
  {
   "cell_type": "code",
   "execution_count": 11,
   "metadata": {
    "colab": {
     "base_uri": "https://localhost:8080/"
    },
    "id": "Z8QHnLX-ANz5",
    "outputId": "29c2265e-1a3c-4beb-d4df-0bb327ae6578"
   },
   "outputs": [
    {
     "name": "stdout",
     "output_type": "stream",
     "text": [
      "Epoch 1/5\n",
      "1875/1875 [==============================] - 15s 7ms/step - loss: 0.2942 - accuracy: 0.9142\n",
      "Epoch 2/5\n",
      "1875/1875 [==============================] - 13s 7ms/step - loss: 0.1414 - accuracy: 0.9577\n",
      "Epoch 3/5\n",
      "1875/1875 [==============================] - 8s 4ms/step - loss: 0.1051 - accuracy: 0.9688\n",
      "Epoch 4/5\n",
      "1875/1875 [==============================] - 6s 3ms/step - loss: 0.0878 - accuracy: 0.9734\n",
      "Epoch 5/5\n",
      "1875/1875 [==============================] - 7s 4ms/step - loss: 0.0755 - accuracy: 0.9761\n"
     ]
    },
    {
     "data": {
      "text/plain": [
       "<keras.callbacks.History at 0x7e4fee30acb0>"
      ]
     },
     "execution_count": 11,
     "metadata": {},
     "output_type": "execute_result"
    }
   ],
   "source": [
    "model.fit(x_train, y_train, epochs=5)"
   ]
  },
  {
   "cell_type": "code",
   "execution_count": 12,
   "metadata": {
    "colab": {
     "base_uri": "https://localhost:8080/"
    },
    "id": "y-LcY5bjAm-u",
    "outputId": "80ddf6c0-ab55-4ee6-8385-fe41f1b36d4d"
   },
   "outputs": [
    {
     "name": "stdout",
     "output_type": "stream",
     "text": [
      "313/313 - 1s - loss: 0.0747 - accuracy: 0.9777 - 605ms/epoch - 2ms/step\n"
     ]
    },
    {
     "data": {
      "text/plain": [
       "[0.07466129958629608, 0.9776999950408936]"
      ]
     },
     "execution_count": 12,
     "metadata": {},
     "output_type": "execute_result"
    }
   ],
   "source": [
    "model.evaluate(x_test, y_test, verbose=2)"
   ]
  },
  {
   "cell_type": "code",
   "execution_count": 13,
   "metadata": {
    "id": "K2YpHAPbBJeO"
   },
   "outputs": [],
   "source": [
    "## VALIDATING MODEL"
   ]
  },
  {
   "cell_type": "code",
   "execution_count": 14,
   "metadata": {
    "colab": {
     "base_uri": "https://localhost:8080/"
    },
    "id": "4ewxnG1qBqnT",
    "outputId": "2164f3cb-3472-4690-932c-da78a0788587"
   },
   "outputs": [
    {
     "name": "stdout",
     "output_type": "stream",
     "text": [
      "Epoch 1/5\n",
      "469/469 [==============================] - 3s 6ms/step - loss: 0.0524 - accuracy: 0.9836 - val_loss: 0.0674 - val_accuracy: 0.9799\n",
      "Epoch 2/5\n",
      "469/469 [==============================] - 3s 5ms/step - loss: 0.0472 - accuracy: 0.9852 - val_loss: 0.0660 - val_accuracy: 0.9800\n",
      "Epoch 3/5\n",
      "469/469 [==============================] - 3s 6ms/step - loss: 0.0438 - accuracy: 0.9866 - val_loss: 0.0665 - val_accuracy: 0.9790\n",
      "Epoch 4/5\n",
      "469/469 [==============================] - 4s 7ms/step - loss: 0.0423 - accuracy: 0.9868 - val_loss: 0.0650 - val_accuracy: 0.9806\n",
      "Epoch 5/5\n",
      "469/469 [==============================] - 2s 5ms/step - loss: 0.0389 - accuracy: 0.9878 - val_loss: 0.0687 - val_accuracy: 0.9803\n"
     ]
    }
   ],
   "source": [
    "val = model.fit(x_train, y_train, epochs=5, validation_data=(x_test, y_test), batch_size=128)"
   ]
  },
  {
   "cell_type": "code",
   "execution_count": 15,
   "metadata": {
    "colab": {
     "base_uri": "https://localhost:8080/",
     "height": 472
    },
    "id": "P6r9x8PICQf0",
    "outputId": "dc2327c6-e9c9-4efa-977e-47e9c09c2545"
   },
   "outputs": [
    {
     "data": {
      "image/png": "[encoded data removed]",
      "text/plain": [
       "<Figure size 640x480 with 1 Axes>"
      ]
     },
     "metadata": {},
     "output_type": "display_data"
    }
   ],
   "source": [
    "plt.title(\"Model Accuracy\")\n",
    "plt.ylabel(\"Accuracy\")\n",
    "plt.xlabel(\"epoch\")\n",
    "plt.plot(val.history[\"accuracy\"])\n",
    "plt.plot (val.history [ \"val_accuracy\"])\n",
    "plt.legend([\"train\", \"val\"])\n",
    "plt.show()"
   ]
  },
  {
   "cell_type": "code",
   "execution_count": 15,
   "metadata": {
    "id": "knZkPQHMDAwx"
   },
   "outputs": [],
   "source": []
  }
 ],
 "metadata": {
  "colab": {
   "provenance": []
  },
  "kernelspec": {
   "display_name": "Python 3 (ipykernel)",
   "language": "python",
   "name": "python3"
  },
  "language_info": {
   "codemirror_mode": {
    "name": "ipython",
    "version": 3
   },
   "file_extension": ".py",
   "mimetype": "text/x-python",
   "name": "python",
   "nbconvert_exporter": "python",
   "pygments_lexer": "ipython3",
   "version": "3.9.12"
  }
 },
 "nbformat": 4,
 "nbformat_minor": 1
}

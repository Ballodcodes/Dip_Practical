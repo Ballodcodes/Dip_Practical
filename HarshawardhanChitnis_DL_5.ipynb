{
 "cells": [
  {
   "cell_type": "code",
   "execution_count": 1,
   "metadata": {
    "id": "zzC3XciJXY1W"
   },
   "outputs": [
    {
     "name": "stderr",
     "output_type": "stream",
     "text": [
      "/Users/harshawardhanchitnis/opt/anaconda3/lib/python3.9/site-packages/scipy/__init__.py:146: UserWarning: A NumPy version >=1.16.5 and <1.23.0 is required for this version of SciPy (detected version 1.24.3\n",
      "  warnings.warn(f\"A NumPy version >={np_minversion} and <{np_maxversion}\"\n"
     ]
    }
   ],
   "source": [
    "import numpy as np\n",
    "import pandas as pd\n",
    "import seaborn as sns\n",
    "import matplotlib as mpl\n",
    "import matplotlib.pyplot as plt\n",
    "import matplotlib.pylab as pylab"
   ]
  },
  {
   "cell_type": "code",
   "execution_count": 2,
   "metadata": {
    "id": "A2CrTOTSYIX3"
   },
   "outputs": [],
   "source": [
    "import re"
   ]
  },
  {
   "cell_type": "code",
   "execution_count": 3,
   "metadata": {
    "id": "bPhkugzeYMXF"
   },
   "outputs": [],
   "source": [
    "sentences = \"\"\"We are about to study the idea of a computational process.\n",
    "Computational processes are abstract beings that inhabit computers.\n",
    "As they evolve, processes manipulate other abstract things called data.\n",
    "The evolution of a process is directed by a pattern of rules called a program.\n",
    "People create programs to direct processes. In effect, \n",
    "we conjure the spirits of the computer with our spells.\"\"\""
   ]
  },
  {
   "cell_type": "code",
   "execution_count": 4,
   "metadata": {
    "id": "NmB2VYPMYYzk"
   },
   "outputs": [],
   "source": [
    "senteces = re.sub('[^A-Za-z0-9]+', ' ', sentences)"
   ]
  },
  {
   "cell_type": "code",
   "execution_count": 5,
   "metadata": {
    "id": "Oc7T5XM7YkDY"
   },
   "outputs": [],
   "source": [
    "senteces = re.sub(r'(?:^| )\\w(?:$| )', ' ', sentences).strip()"
   ]
  },
  {
   "cell_type": "code",
   "execution_count": 6,
   "metadata": {
    "id": "_wVkSHocYn2C"
   },
   "outputs": [],
   "source": [
    "sentences = sentences.lower()"
   ]
  },
  {
   "cell_type": "code",
   "execution_count": 7,
   "metadata": {
    "id": "NemSSKHZZLqP"
   },
   "outputs": [],
   "source": [
    "words = sentences.split()\n",
    "vocab = set(words)"
   ]
  },
  {
   "cell_type": "code",
   "execution_count": 8,
   "metadata": {
    "id": "Z9Mi2VUbZQUu"
   },
   "outputs": [],
   "source": [
    "vocab_size = len(vocab)\n",
    "embed_dim = 10\n",
    "context_size = 2"
   ]
  },
  {
   "cell_type": "code",
   "execution_count": 9,
   "metadata": {
    "id": "ekCgG2HzZYqK"
   },
   "outputs": [],
   "source": [
    "word_to_ix = {word: i for i, word in enumerate(vocab)}\n",
    "ix_to_word = {i: word for i, word in enumerate(vocab)}"
   ]
  },
  {
   "cell_type": "code",
   "execution_count": 10,
   "metadata": {
    "colab": {
     "base_uri": "https://localhost:8080/"
    },
    "id": "znSe-mF5ZnxJ",
    "outputId": "512fdf5d-0b02-4a07-fe49-0322cb4a702c"
   },
   "outputs": [
    {
     "name": "stdout",
     "output_type": "stream",
     "text": [
      "[(['we', 'are', 'to', 'study'], 'about'), (['are', 'about', 'study', 'the'], 'to'), (['about', 'to', 'the', 'idea'], 'study'), (['to', 'study', 'idea', 'of'], 'the'), (['study', 'the', 'of', 'a'], 'idea')]\n"
     ]
    }
   ],
   "source": [
    "data = []\n",
    "for i in range(2,len(words) - 2):\n",
    "  context = [words[i-2], words[i-1], words[i+1], words[i+2]]\n",
    "  target = words[i]\n",
    "  data.append((context,target))\n",
    "print(data[:5])"
   ]
  },
  {
   "cell_type": "code",
   "execution_count": 11,
   "metadata": {
    "id": "nL4Z9emaZ96k"
   },
   "outputs": [],
   "source": [
    "embeddings = np.random.random_sample((vocab_size , embed_dim))"
   ]
  },
  {
   "cell_type": "code",
   "execution_count": 12,
   "metadata": {
    "id": "IaCA0lNEaTmT"
   },
   "outputs": [],
   "source": [
    "def linear(m,theta):\n",
    "  w = theta\n",
    "  return m.dot(w)"
   ]
  },
  {
   "cell_type": "code",
   "execution_count": 13,
   "metadata": {
    "id": "GFXsyF1paf_T"
   },
   "outputs": [],
   "source": [
    "def log_softmax(x):\n",
    "  e_x = np.exp(x-np.max(x))\n",
    "  return np.log(e_x/e_x.sum())"
   ]
  },
  {
   "cell_type": "code",
   "execution_count": 14,
   "metadata": {
    "id": "DDBqqn9cag2U"
   },
   "outputs": [],
   "source": [
    "def NLLLoss(logs,targets):\n",
    "  out = logs[range(len(targets)),targets]\n",
    "  return -out.sum()/len(out)"
   ]
  },
  {
   "cell_type": "code",
   "execution_count": 15,
   "metadata": {
    "id": "pe_XtkwnahJn"
   },
   "outputs": [],
   "source": [
    "def log_softmax_crossentropy_with_logits(logits,target):\n",
    "  out = np.zeros_like(logits)\n",
    "  out[np.arange(len(logits)) , target] = 1\n",
    "\n",
    "  softmax = np.exp(logits) / np.exp(logits).sum(axis=-1, keepdims=True)\n",
    "\n",
    "  return(- out + softmax) / logits.shape[0]"
   ]
  },
  {
   "cell_type": "code",
   "execution_count": 16,
   "metadata": {
    "id": "i69LOUswahZm"
   },
   "outputs": [],
   "source": [
    "def forward(context_idxs, theta):\n",
    "  m = embeddings[context_idxs].reshape(1, -1)\n",
    "  n = linear(m, theta)\n",
    "  o = log_softmax(n)\n",
    "\n",
    "  return m, n, o"
   ]
  },
  {
   "cell_type": "code",
   "execution_count": 17,
   "metadata": {
    "id": "0tgHwk86bzDY"
   },
   "outputs": [],
   "source": [
    "def backward(preds, theta, target_idxs):\n",
    "  m, n, o = preds\n",
    "\n",
    "  dlog = log_softmax_crossentropy_with_logits(n, target_idxs)\n",
    "  dw = m.T.dot(dlog)\n",
    "\n",
    "\n",
    "  return dw"
   ]
  },
  {
   "cell_type": "code",
   "execution_count": 18,
   "metadata": {
    "id": "FbggDvTLb9fS"
   },
   "outputs": [],
   "source": [
    "def optimize(theta, grad, lr=0.03):\n",
    "  theta -= grad * lr\n",
    "  return theta"
   ]
  },
  {
   "cell_type": "code",
   "execution_count": 19,
   "metadata": {
    "id": "czcxdmqwcKpt"
   },
   "outputs": [],
   "source": [
    "theta = np.random.uniform(-1,1, (2 * context_size * embed_dim, vocab_size))"
   ]
  },
  {
   "cell_type": "code",
   "execution_count": 20,
   "metadata": {
    "id": "ttE0yOCTcX--"
   },
   "outputs": [],
   "source": [
    "epoch_losses = {}\n",
    "\n",
    "for epoch in range(80):\n",
    "\n",
    "  losses = []\n",
    "\n",
    "  for context, target in data:\n",
    "    context_idxs = np.array([word_to_ix[w] for w in context])\n",
    "    preds = forward(context_idxs,theta)\n",
    "\n",
    "    target_idxs = np.array([word_to_ix[target]])\n",
    "    loss = NLLLoss(preds[-1], target_idxs)\n",
    "\n",
    "    losses.append(loss)\n",
    "\n",
    "    grad = backward(preds, theta, target_idxs)\n",
    "    theta = optimize(theta, grad, lr=0.03)\n",
    "\n",
    "  epoch_losses[epoch] = losses"
   ]
  },
  {
   "cell_type": "code",
   "execution_count": 21,
   "metadata": {
    "colab": {
     "base_uri": "https://localhost:8080/",
     "height": 519
    },
    "id": "wSgF_aL2dDmG",
    "outputId": "e78138df-657d-47b5-e369-6806d8b41b93"
   },
   "outputs": [
    {
     "data": {
      "text/plain": [
       "Text(0, 0.5, 'Losses')"
      ]
     },
     "execution_count": 21,
     "metadata": {},
     "output_type": "execute_result"
    },
    {
     "data": {
      "image/png": "[encoded data removed]",
      "text/plain": [
       "<Figure size 432x288 with 1 Axes>"
      ]
     },
     "metadata": {
      "needs_background": "light"
     },
     "output_type": "display_data"
    }
   ],
   "source": [
    "ix = np.arange(0,80)\n",
    "\n",
    "fig = plt.figure()\n",
    "fig.suptitle('Epoch/Losses', fontsize = 20)\n",
    "plt.plot(ix,[epoch_losses[i][0] for i in ix])\n",
    "plt.xlabel('Epochs' , fontsize = 12)\n",
    "plt.ylabel('Losses' , fontsize = 12)"
   ]
  },
  {
   "cell_type": "code",
   "execution_count": 22,
   "metadata": {
    "id": "ye9UDwGFfBTh"
   },
   "outputs": [],
   "source": [
    "def predict(words):\n",
    "  context_idxs = np.array([word_to_ix[w] for w in words])\n",
    "  preds = forward(context_idxs,theta)\n",
    "  word = ix_to_word[np.argmax(preds[-1])]\n",
    "\n",
    "  return word"
   ]
  },
  {
   "cell_type": "code",
   "execution_count": 23,
   "metadata": {
    "colab": {
     "base_uri": "https://localhost:8080/",
     "height": 37
    },
    "id": "pkv7bRbwfTDg",
    "outputId": "e471918f-27dc-412f-f441-e0d1446ec760"
   },
   "outputs": [
    {
     "data": {
      "text/plain": [
       "'about'"
      ]
     },
     "execution_count": 23,
     "metadata": {},
     "output_type": "execute_result"
    }
   ],
   "source": [
    "predict(['we','are','to','study'])"
   ]
  },
  {
   "cell_type": "code",
   "execution_count": 24,
   "metadata": {
    "id": "WQD4MuPddrO9"
   },
   "outputs": [],
   "source": [
    "def accuracy():\n",
    "  wrong = 0\n",
    "\n",
    "  for context, target in data:\n",
    "    if(predict(context) != target):\n",
    "      wrong += 1\n",
    "\n",
    "  return (1 - wrong / len(data))"
   ]
  },
  {
   "cell_type": "code",
   "execution_count": 25,
   "metadata": {
    "colab": {
     "base_uri": "https://localhost:8080/"
    },
    "id": "JXRhAr1Ne8Pi",
    "outputId": "4fd4b1e4-bdee-41a3-f012-1dcfb6860c8b"
   },
   "outputs": [
    {
     "data": {
      "text/plain": [
       "1.0"
      ]
     },
     "execution_count": 25,
     "metadata": {},
     "output_type": "execute_result"
    }
   ],
   "source": [
    "accuracy()"
   ]
  },
  {
   "cell_type": "code",
   "execution_count": 26,
   "metadata": {
    "colab": {
     "base_uri": "https://localhost:8080/",
     "height": 37
    },
    "id": "l1Iv2dlde92a",
    "outputId": "0711d988-f367-41cb-9022-3142bdf1d5ab"
   },
   "outputs": [
    {
     "data": {
      "text/plain": [
       "'other'"
      ]
     },
     "execution_count": 26,
     "metadata": {},
     "output_type": "execute_result"
    }
   ],
   "source": [
    "predict(['processes' , 'manipulate' , 'things' , 'study'])"
   ]
  },
  {
   "cell_type": "code",
   "execution_count": null,
   "metadata": {
    "id": "d7Xn0bXbfg-m"
   },
   "outputs": [],
   "source": []
  }
 ],
 "metadata": {
  "colab": {
   "provenance": []
  },
  "kernelspec": {
   "display_name": "Python 3 (ipykernel)",
   "language": "python",
   "name": "python3"
  },
  "language_info": {
   "codemirror_mode": {
    "name": "ipython",
    "version": 3
   },
   "file_extension": ".py",
   "mimetype": "text/x-python",
   "name": "python",
   "nbconvert_exporter": "python",
   "pygments_lexer": "ipython3",
   "version": "3.9.12"
  }
 },
 "nbformat": 4,
 "nbformat_minor": 1
}
